{
  "nbformat": 4,
  "nbformat_minor": 0,
  "metadata": {
    "colab": {
      "name": "Aula2.ipynb",
      "provenance": [],
      "collapsed_sections": [],
      "authorship_tag": "ABX9TyPv08kpip8/NvMfCZua/7Th",
      "include_colab_link": true
    },
    "kernelspec": {
      "name": "python3",
      "display_name": "Python 3"
    },
    "language_info": {
      "name": "python"
    }
  },
  "cells": [
    {
      "cell_type": "markdown",
      "metadata": {
        "id": "view-in-github",
        "colab_type": "text"
      },
      "source": [
        "<a href=\"https://colab.research.google.com/github/Warfera/Python/blob/master/Aula2.ipynb\" target=\"_parent\"><img src=\"https://colab.research.google.com/assets/colab-badge.svg\" alt=\"Open In Colab\"/></a>"
      ]
    },
    {
      "cell_type": "markdown",
      "source": [
        "# Repetições (Iterações) Condicionais"
      ],
      "metadata": {
        "id": "i7xruYE1r2zX"
      }
    },
    {
      "cell_type": "code",
      "source": [
        "#enquanto for verdade, repete\n",
        "numero = 7\n",
        "while numero > 0:\n",
        "  print (numero)\n",
        "  numero = numero - 1\n",
        "\n",
        "print ('Acabou de repetir')  "
      ],
      "metadata": {
        "colab": {
          "base_uri": "https://localhost:8080/"
        },
        "id": "54qG9d3HsMNN",
        "outputId": "e3cbec3b-2a61-4de5-cc6c-b0c3287f4f0d"
      },
      "execution_count": 3,
      "outputs": [
        {
          "output_type": "stream",
          "name": "stdout",
          "text": [
            "7\n",
            "6\n",
            "5\n",
            "4\n",
            "3\n",
            "2\n",
            "1\n",
            "Acabou de repetir\n"
          ]
        }
      ]
    },
    {
      "cell_type": "code",
      "source": [
        "repetir = True\n",
        "while repetir:\n",
        "  idade = input('Digite sua idade: ') # também daria certo  int(input('Digite sua idade: ')\n",
        "  idade = int(idade)  #Sempre transformar dados que entram via imput\n",
        "  if idade >=18 and idade <70:\n",
        "    print(f'Com {idade} anos, o seu voto é obrigatório!')\n",
        "  elif idade >=16:\n",
        "    print(f'Com {idade} anos, o seu voto é facultativo!')\n",
        "  else:\n",
        "    print(f'Com {idade} anos, você não pode votar!')\n",
        "\n",
        "  resposta = input('Deseja repetir? (s/n)')\n",
        "  if resposta == 'n' or resposta =='N':\n",
        "    repetir = False"
      ],
      "metadata": {
        "colab": {
          "base_uri": "https://localhost:8080/"
        },
        "id": "WTZuTAnEum6e",
        "outputId": "1dd303b8-28c9-4b8d-c95f-c966b59283ab"
      },
      "execution_count": 14,
      "outputs": [
        {
          "name": "stdout",
          "output_type": "stream",
          "text": [
            "Digite sua idade: 35\n",
            "Com 35 anos, o seu voto é obrigatório!\n",
            "Deseja repetir? (s/n)s\n",
            "Digite sua idade: 99\n",
            "Com 99 anos, o seu voto é facultativo!\n",
            "Deseja repetir? (s/n)d\n",
            "Digite sua idade: 77\n",
            "Com 77 anos, o seu voto é facultativo!\n",
            "Deseja repetir? (s/n)N\n"
          ]
        }
      ]
    },
    {
      "cell_type": "code",
      "source": [
        "    a = 4\n",
        "    b = 3\n",
        "    \n",
        "    print (a // b)\n",
        "    print (a / b)"
      ],
      "metadata": {
        "colab": {
          "base_uri": "https://localhost:8080/"
        },
        "id": "x0mKSXhI0Jra",
        "outputId": "d54205a4-1726-4cf0-836c-cb34b6804a3a"
      },
      "execution_count": 18,
      "outputs": [
        {
          "output_type": "stream",
          "name": "stdout",
          "text": [
            "1\n",
            "1.3333333333333333\n"
          ]
        }
      ]
    }
  ]
}