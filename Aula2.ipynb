{
  "nbformat": 4,
  "nbformat_minor": 0,
  "metadata": {
    "colab": {
      "name": "Aula2.ipynb",
      "provenance": [],
      "collapsed_sections": [],
      "authorship_tag": "ABX9TyMKpjuZG482p7NvbdOpHqbi",
      "include_colab_link": true
    },
    "kernelspec": {
      "name": "python3",
      "display_name": "Python 3"
    },
    "language_info": {
      "name": "python"
    }
  },
  "cells": [
    {
      "cell_type": "markdown",
      "metadata": {
        "id": "view-in-github",
        "colab_type": "text"
      },
      "source": [
        "<a href=\"https://colab.research.google.com/github/Warfera/Python/blob/master/Aula2.ipynb\" target=\"_parent\"><img src=\"https://colab.research.google.com/assets/colab-badge.svg\" alt=\"Open In Colab\"/></a>"
      ]
    },
    {
      "cell_type": "markdown",
      "source": [
        "# Repetições (Iterações) Condicionais"
      ],
      "metadata": {
        "id": "i7xruYE1r2zX"
      }
    },
    {
      "cell_type": "code",
      "source": [
        "#enquanto for verdade, repete\n",
        "numero = 7\n",
        "while numero > 0:\n",
        "  print (numero)\n",
        "  numero = numero - 1\n",
        "\n",
        "print ('Acabou de repetir')  "
      ],
      "metadata": {
        "colab": {
          "base_uri": "https://localhost:8080/"
        },
        "id": "54qG9d3HsMNN",
        "outputId": "e3cbec3b-2a61-4de5-cc6c-b0c3287f4f0d"
      },
      "execution_count": null,
      "outputs": [
        {
          "output_type": "stream",
          "name": "stdout",
          "text": [
            "7\n",
            "6\n",
            "5\n",
            "4\n",
            "3\n",
            "2\n",
            "1\n",
            "Acabou de repetir\n"
          ]
        }
      ]
    },
    {
      "cell_type": "code",
      "source": [
        "repetir = True\n",
        "while repetir:\n",
        "  idade = input('Digite sua idade: ') # também daria certo  int(input('Digite sua idade: ')\n",
        "  idade = int(idade)  #Sempre transformar dados que entram via imput\n",
        "  if idade >=18 and idade <70:\n",
        "    print(f'Com {idade} anos, o seu voto é obrigatório!')\n",
        "  elif idade >=16:\n",
        "    print(f'Com {idade} anos, o seu voto é facultativo!')\n",
        "  else:\n",
        "    print(f'Com {idade} anos, você não pode votar!')\n",
        "\n",
        "  resposta = input('Deseja repetir? (s/n)')\n",
        "  if resposta == 'n' or resposta =='N':\n",
        "    repetir = False"
      ],
      "metadata": {
        "colab": {
          "base_uri": "https://localhost:8080/"
        },
        "id": "WTZuTAnEum6e",
        "outputId": "1dd303b8-28c9-4b8d-c95f-c966b59283ab"
      },
      "execution_count": null,
      "outputs": [
        {
          "name": "stdout",
          "output_type": "stream",
          "text": [
            "Digite sua idade: 35\n",
            "Com 35 anos, o seu voto é obrigatório!\n",
            "Deseja repetir? (s/n)s\n",
            "Digite sua idade: 99\n",
            "Com 99 anos, o seu voto é facultativo!\n",
            "Deseja repetir? (s/n)d\n",
            "Digite sua idade: 77\n",
            "Com 77 anos, o seu voto é facultativo!\n",
            "Deseja repetir? (s/n)N\n"
          ]
        }
      ]
    },
    {
      "cell_type": "code",
      "source": [
        "    a = 4\n",
        "    b = 3\n",
        "    \n",
        "    print (a // b)\n",
        "    print (a / b)"
      ],
      "metadata": {
        "colab": {
          "base_uri": "https://localhost:8080/"
        },
        "id": "x0mKSXhI0Jra",
        "outputId": "d54205a4-1726-4cf0-836c-cb34b6804a3a"
      },
      "execution_count": null,
      "outputs": [
        {
          "output_type": "stream",
          "name": "stdout",
          "text": [
            "1\n",
            "1.3333333333333333\n"
          ]
        }
      ]
    },
    {
      "cell_type": "markdown",
      "source": [
        "# Listas de Dados"
      ],
      "metadata": {
        "id": "WXWVuN1tASOh"
      }
    },
    {
      "cell_type": "code",
      "source": [
        "idades = [12, 35, 5, 62, 33] #Lista com vários números\n",
        "\n",
        "miscelanea = [ 15, 'biscoito', True, \"Teste\", 25.4]\n",
        "\n",
        "print(idades [0])\n",
        "print(miscelanea [1])"
      ],
      "metadata": {
        "colab": {
          "base_uri": "https://localhost:8080/"
        },
        "id": "VvftOaUhAXfY",
        "outputId": "0b957d66-c4da-4db6-8286-042354f8e47b"
      },
      "execution_count": 1,
      "outputs": [
        {
          "output_type": "stream",
          "name": "stdout",
          "text": [
            "12\n",
            "biscoito\n"
          ]
        }
      ]
    },
    {
      "cell_type": "code",
      "source": [
        "idades [3] = 99\n",
        "print(idades[3])\n",
        "idades.append (77) #adicionar elementos a lista\n",
        "print(idades)\n",
        "print(idades + [88,12])"
      ],
      "metadata": {
        "colab": {
          "base_uri": "https://localhost:8080/"
        },
        "id": "1_bOQTHlBISe",
        "outputId": "4a05b9b6-1d78-438b-d6ee-fb6f8d0755ac"
      },
      "execution_count": 4,
      "outputs": [
        {
          "output_type": "stream",
          "name": "stdout",
          "text": [
            "99\n",
            "[12, 35, 5, 99, 33, 77, 77]\n",
            "[12, 35, 5, 99, 33, 77, 77, 88, 12]\n"
          ]
        }
      ]
    },
    {
      "cell_type": "markdown",
      "source": [
        "# For"
      ],
      "metadata": {
        "id": "rUCEyonkDGzl"
      }
    },
    {
      "cell_type": "code",
      "source": [
        "idades = [12, 35, 5, 62, 33]\n",
        "for idade in idades:\n",
        "  print(idade+2)"
      ],
      "metadata": {
        "colab": {
          "base_uri": "https://localhost:8080/"
        },
        "id": "8ZS3qoFsDIQI",
        "outputId": "8db46410-1013-407c-a5b8-5baad847cae8"
      },
      "execution_count": 5,
      "outputs": [
        {
          "output_type": "stream",
          "name": "stdout",
          "text": [
            "14\n",
            "37\n",
            "7\n",
            "64\n",
            "35\n"
          ]
        }
      ]
    },
    {
      "cell_type": "code",
      "source": [
        "for idade in idades:\n",
        "  if idade >= 18 and idade < 70:\n",
        "    print(f'Com {idade} anos seu voto é obrigatório!')\n",
        "  elif idade >=16:\n",
        "    print(f'Com {idade} anos seu voto é facultativo!')\n",
        "  else:\n",
        "    print(f'Com {idade} anos você não pode votar!')    "
      ],
      "metadata": {
        "colab": {
          "base_uri": "https://localhost:8080/"
        },
        "id": "cCY-cRQTDWxo",
        "outputId": "52fe12fd-663b-497b-a442-f160c8eadfad"
      },
      "execution_count": 6,
      "outputs": [
        {
          "output_type": "stream",
          "name": "stdout",
          "text": [
            "Com 12 anos você não pode votar!\n",
            "Com 35 anos seu voto é obrigatório!\n",
            "Com 5 anos você não pode votar!\n",
            "Com 62 anos seu voto é obrigatório!\n",
            "Com 33 anos seu voto é obrigatório!\n"
          ]
        }
      ]
    },
    {
      "cell_type": "code",
      "source": [
        "for i in range(1, 10, 2):\n",
        "  print(i)\n",
        "\n",
        "for i in range(10, 2, -3):\n",
        "  print(i)"
      ],
      "metadata": {
        "colab": {
          "base_uri": "https://localhost:8080/"
        },
        "id": "eqrMYXmBEgdR",
        "outputId": "93b3638b-c8d5-4391-bfed-11288ae65b3c"
      },
      "execution_count": 11,
      "outputs": [
        {
          "output_type": "stream",
          "name": "stdout",
          "text": [
            "1\n",
            "3\n",
            "5\n",
            "7\n",
            "9\n",
            "10\n",
            "7\n",
            "4\n"
          ]
        }
      ]
    },
    {
      "cell_type": "code",
      "source": [
        "idades = [12, 35, 5, 62, 33, 43]\n",
        "nomes = ['Jean', 'Alice', 'Daniel', 'Pedro', 'Rebeca', 'Jonas']\n",
        "\n",
        "for i in range (len(idades)):\n",
        "  print(f'{nomes[i]} tem {idades[i]} anos') \n",
        "\n",
        "#lenght comprimento\n",
        "print(len(nomes))"
      ],
      "metadata": {
        "colab": {
          "base_uri": "https://localhost:8080/"
        },
        "id": "h9mdrwprFVZ8",
        "outputId": "34538ea7-c701-48ac-b0d2-5f70e9ad3fc6"
      },
      "execution_count": 15,
      "outputs": [
        {
          "output_type": "stream",
          "name": "stdout",
          "text": [
            "Jean tem 12 anos\n",
            "Alice tem 35 anos\n",
            "Daniel tem 5 anos\n",
            "Pedro tem 62 anos\n",
            "Rebeca tem 33 anos\n",
            "Jonas tem 43 anos\n",
            "6\n"
          ]
        }
      ]
    },
    {
      "cell_type": "markdown",
      "source": [
        "#Strings"
      ],
      "metadata": {
        "id": "1uoH1AsnGq1w"
      }
    },
    {
      "cell_type": "code",
      "source": [
        "frase = 'Eu te amo meu amor...'\n",
        "print(frase[0])\n",
        "print(frase[9])\n",
        "print(frase[10])\n",
        "print(frase[-1])\n",
        "print(frase[-4])"
      ],
      "metadata": {
        "colab": {
          "base_uri": "https://localhost:8080/"
        },
        "id": "N4URvm1JGwkB",
        "outputId": "08d1ae08-8fe9-4120-b1a2-c9146afd9d77"
      },
      "execution_count": 18,
      "outputs": [
        {
          "output_type": "stream",
          "name": "stdout",
          "text": [
            "E\n",
            " \n",
            "m\n",
            ".\n",
            "r\n"
          ]
        }
      ]
    },
    {
      "cell_type": "code",
      "source": [
        "lista = [12, 'China', 8]\n",
        "palavra = 'ninja'\n",
        "lista[1] = 5   #Elementos em uma lista podem ser substituídos. São mutáveis.\n",
        "print(lista)\n",
        "palavra[1] = 'a' #Palavras não podem ser substituídas. São imutáveis.\n",
        "print(palavra)"
      ],
      "metadata": {
        "colab": {
          "base_uri": "https://localhost:8080/",
          "height": 235
        },
        "id": "ZyHIFparHj6p",
        "outputId": "de3d5c84-5a43-47d3-d014-933ec40189f7"
      },
      "execution_count": 21,
      "outputs": [
        {
          "output_type": "stream",
          "name": "stdout",
          "text": [
            "[12, 5, 8]\n"
          ]
        },
        {
          "output_type": "error",
          "ename": "TypeError",
          "evalue": "ignored",
          "traceback": [
            "\u001b[0;31m---------------------------------------------------------------------------\u001b[0m",
            "\u001b[0;31mTypeError\u001b[0m                                 Traceback (most recent call last)",
            "\u001b[0;32m<ipython-input-21-de87ef4f89f6>\u001b[0m in \u001b[0;36m<module>\u001b[0;34m()\u001b[0m\n\u001b[1;32m      3\u001b[0m \u001b[0mlista\u001b[0m\u001b[0;34m[\u001b[0m\u001b[0;36m1\u001b[0m\u001b[0;34m]\u001b[0m \u001b[0;34m=\u001b[0m \u001b[0;36m5\u001b[0m\u001b[0;34m\u001b[0m\u001b[0;34m\u001b[0m\u001b[0m\n\u001b[1;32m      4\u001b[0m \u001b[0mprint\u001b[0m\u001b[0;34m(\u001b[0m\u001b[0mlista\u001b[0m\u001b[0;34m)\u001b[0m\u001b[0;34m\u001b[0m\u001b[0;34m\u001b[0m\u001b[0m\n\u001b[0;32m----> 5\u001b[0;31m \u001b[0mpalavra\u001b[0m\u001b[0;34m[\u001b[0m\u001b[0;36m1\u001b[0m\u001b[0;34m]\u001b[0m \u001b[0;34m=\u001b[0m \u001b[0;34m'a'\u001b[0m\u001b[0;34m\u001b[0m\u001b[0;34m\u001b[0m\u001b[0m\n\u001b[0m\u001b[1;32m      6\u001b[0m \u001b[0mprint\u001b[0m\u001b[0;34m(\u001b[0m\u001b[0mpalavra\u001b[0m\u001b[0;34m)\u001b[0m\u001b[0;34m\u001b[0m\u001b[0;34m\u001b[0m\u001b[0m\n",
            "\u001b[0;31mTypeError\u001b[0m: 'str' object does not support item assignment"
          ]
        }
      ]
    },
    {
      "cell_type": "code",
      "source": [
        "for x in frase:\n",
        "  print(x)"
      ],
      "metadata": {
        "colab": {
          "base_uri": "https://localhost:8080/"
        },
        "id": "Vxlm2O3XHQ2i",
        "outputId": "1c16783d-6712-4759-cc16-7c602b141393"
      },
      "execution_count": 20,
      "outputs": [
        {
          "output_type": "stream",
          "name": "stdout",
          "text": [
            "E\n",
            "u\n",
            " \n",
            "t\n",
            "e\n",
            " \n",
            "a\n",
            "m\n",
            "o\n",
            " \n",
            "m\n",
            "e\n",
            "u\n",
            " \n",
            "a\n",
            "m\n",
            "o\n",
            "r\n",
            ".\n",
            ".\n",
            ".\n"
          ]
        }
      ]
    },
    {
      "cell_type": "code",
      "source": [
        "numero = abs(-8)\n",
        "print(numero)"
      ],
      "metadata": {
        "colab": {
          "base_uri": "https://localhost:8080/"
        },
        "id": "DOhkQq2sKA_S",
        "outputId": "1c83789b-1a0c-4daf-93f4-9ee3318abd9c"
      },
      "execution_count": 23,
      "outputs": [
        {
          "output_type": "stream",
          "name": "stdout",
          "text": [
            "8\n"
          ]
        }
      ]
    }
  ]
}