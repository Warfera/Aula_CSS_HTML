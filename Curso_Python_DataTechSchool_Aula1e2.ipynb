{
  "nbformat": 4,
  "nbformat_minor": 0,
  "metadata": {
    "colab": {
      "name": "Curso_Python_DataTechSchool_Aula1e2.ipynb",
      "provenance": [],
      "collapsed_sections": [],
      "authorship_tag": "ABX9TyOlUGVnY2TltARDkfPdPEpy",
      "include_colab_link": true
    },
    "kernelspec": {
      "name": "python3",
      "display_name": "Python 3"
    },
    "language_info": {
      "name": "python"
    }
  },
  "cells": [
    {
      "cell_type": "markdown",
      "metadata": {
        "id": "view-in-github",
        "colab_type": "text"
      },
      "source": [
        "<a href=\"https://colab.research.google.com/github/Warfera/Python/blob/estudos_fevereiro_2022/Curso_Python_DataTechSchool_Aula1e2.ipynb\" target=\"_parent\"><img src=\"https://colab.research.google.com/assets/colab-badge.svg\" alt=\"Open In Colab\"/></a>"
      ]
    },
    {
      "cell_type": "code",
      "execution_count": null,
      "metadata": {
        "colab": {
          "base_uri": "https://localhost:8080/"
        },
        "id": "F6LaEEmnouVM",
        "outputId": "53414803-54d9-4597-cbe7-7513e712f05c"
      },
      "outputs": [
        {
          "output_type": "stream",
          "name": "stdout",
          "text": [
            "digite o valor do preço do produto: R$5.50\n",
            "digite o valor da nota recebida: R$10\n",
            "Seu troco é: R$4.5\n"
          ]
        }
      ],
      "source": [
        "preco = float(input('digite o valor do preço do produto: R$'))\n",
        "nota = float(input('digite o valor da nota recebida: R$'))\n",
        "calcula_troco = nota - preco\n",
        "\n",
        "print(f'Seu troco é: R$ {calcula_troco}')\n",
        "  "
      ]
    },
    {
      "cell_type": "code",
      "source": [
        "pi = 3.14\n",
        "raio = float(input('digite o valor do raio: '))\n",
        "area_do_circulo = pi*(raio**2)\n",
        "\n",
        "print(f'A área do círculo é: {area_do_circulo}')"
      ],
      "metadata": {
        "colab": {
          "base_uri": "https://localhost:8080/"
        },
        "id": "exsrT-WUtcif",
        "outputId": "12cd6c4e-22ff-418f-aeaf-81f82c18b5b2"
      },
      "execution_count": null,
      "outputs": [
        {
          "output_type": "stream",
          "name": "stdout",
          "text": [
            "digite o valor do raio: 5\n",
            "A área do círculo é: 78.5\n"
          ]
        }
      ]
    },
    {
      "cell_type": "code",
      "source": [
        "area = float(input('digite o valor do raio: '))\n",
        "area_do_quadrado = area**2\n",
        "\n",
        "print(f'A área do quadrado é: {area_do_quadrado}')"
      ],
      "metadata": {
        "colab": {
          "base_uri": "https://localhost:8080/"
        },
        "id": "Y0KMd5dZJ7HF",
        "outputId": "47f5ccf4-5cd6-4cbd-b338-13d30e5e948b"
      },
      "execution_count": 20,
      "outputs": [
        {
          "output_type": "stream",
          "name": "stdout",
          "text": [
            "digite o valor do raio: 5\n",
            "A área do quadrado é: 25.0\n"
          ]
        }
      ]
    },
    {
      "cell_type": "code",
      "source": [
        "repetir = True\n",
        "while repetir:\n",
        "  idade = input('Digite sua idade: ') # também daria certo  int(input('Digite sua idade: ')\n",
        "  idade = int(idade)  #Sempre transformar dados que entram via imput\n",
        "  if idade >=18 and idade <70:\n",
        "    print(f'Com {idade} anos, o seu voto é obrigatório!')\n",
        "  elif idade >=16:\n",
        "    print(f'Com {idade} anos, o seu voto é facultativo!')\n",
        "  else:\n",
        "    print(f'Com {idade} anos, você não pode votar!')\n",
        "\n",
        "  resposta = input('Deseja repetir? (s/n)')\n",
        "  if resposta == 'n' or resposta =='N':\n",
        "    repetir = False"
      ],
      "metadata": {
        "colab": {
          "base_uri": "https://localhost:8080/"
        },
        "id": "cAHDRhXKKRLw",
        "outputId": "6700dc79-2356-4e00-eae3-1e0003502e5c"
      },
      "execution_count": 21,
      "outputs": [
        {
          "name": "stdout",
          "output_type": "stream",
          "text": [
            "Digite sua idade: 35\n",
            "Com 35 anos, o seu voto é obrigatório!\n",
            "Deseja repetir? (s/n)n\n"
          ]
        }
      ]
    },
    {
      "cell_type": "markdown",
      "source": [
        "# Baixando vídeo do Youtube"
      ],
      "metadata": {
        "id": "7_FRAahw3Epf"
      }
    },
    {
      "cell_type": "code",
      "source": [
        "!pip install pytube\n",
        "\n",
        "from pytube import YouTube\n",
        "yt = YouTube(\"https://www.youtube.com/watch?v=_wjnbQzC1SI\")\n",
        "video = yt.streams.get_highest_resolution()\n",
        "video.download()\n"
      ],
      "metadata": {
        "colab": {
          "base_uri": "https://localhost:8080/",
          "height": 122
        },
        "id": "Rt_BaXZK3KMN",
        "outputId": "3a5d45ce-aff9-4a22-ddc2-ac2b7377225c"
      },
      "execution_count": null,
      "outputs": [
        {
          "output_type": "stream",
          "name": "stdout",
          "text": [
            "Collecting pytube\n",
            "  Downloading pytube-12.0.0-py3-none-any.whl (56 kB)\n",
            "\u001b[?25l\r\u001b[K     |█████▉                          | 10 kB 26.2 MB/s eta 0:00:01\r\u001b[K     |███████████▋                    | 20 kB 29.3 MB/s eta 0:00:01\r\u001b[K     |█████████████████▍              | 30 kB 14.3 MB/s eta 0:00:01\r\u001b[K     |███████████████████████▏        | 40 kB 10.7 MB/s eta 0:00:01\r\u001b[K     |█████████████████████████████   | 51 kB 8.7 MB/s eta 0:00:01\r\u001b[K     |████████████████████████████████| 56 kB 3.1 MB/s \n",
            "\u001b[?25hInstalling collected packages: pytube\n",
            "Successfully installed pytube-12.0.0\n"
          ]
        },
        {
          "output_type": "execute_result",
          "data": {
            "application/vnd.google.colaboratory.intrinsic+json": {
              "type": "string"
            },
            "text/plain": [
              "'/content/A história de Alcibíades - INÉDITA PAMONHA 96.mp4'"
            ]
          },
          "metadata": {},
          "execution_count": 19
        }
      ]
    },
    {
      "cell_type": "markdown",
      "source": [
        "#Chatbot"
      ],
      "metadata": {
        "id": "WUihRmzmZqYi"
      }
    },
    {
      "cell_type": "code",
      "source": [
        "nome = input('Qual o seu nome? ')\n",
        "print (f'Olá {nome}, seja bem vindo ao nosso canal!')\n",
        "idade = int(input('Por favor, me informe sua idade:'))\n",
        "\n",
        "repetir = True\n",
        "while repetir:\n",
        "  if idade >= 18:\n",
        "    bebida = input('Nossas opções são Rum, Cachaça, Vodka e Cerveja. Qual bebida você gostaria? ')\n",
        "    if (bebida == \"Rum\"):\n",
        "      print ('O preço do Rum é R$ 20,00. Aproveite!')\n",
        "      repetir = False\n",
        "    elif (bebida == \"Cachaca\"):\n",
        "      print ('O preço da Cachaça é R$ 10,00. Aproveite!')\n",
        "      repetir = False\n",
        "    elif (bebida == \"Vodka\"):\n",
        "      print ('O preço da Vodka é R$ 8,00. Aproveite!')\n",
        "      repetir = False\n",
        "    elif (bebida == \"Cerveja\"):\n",
        "      print ('O preço da Cerveja é R$ 6,00. Aproveite!')\n",
        "      repetir = False\n",
        "    else:\n",
        "      print (f'Desculpe, mas não conheço essa bebida.\\n')\n",
        "      bebida = input('Nossas opções são Rum, Cachaça, Vodka e Cerveja. Qual bebida você gostaria? ')\n",
        "  else:\n",
        "    print ('Você tem menos de 18 anos e não pode comprar bebidas alcoólicas!')"
      ],
      "metadata": {
        "colab": {
          "base_uri": "https://localhost:8080/"
        },
        "id": "6FPeZd9JZvZB",
        "outputId": "0af5eec0-88b7-4619-8068-037bb89abcab"
      },
      "execution_count": 41,
      "outputs": [
        {
          "output_type": "stream",
          "name": "stdout",
          "text": [
            "Qual o seu nome? Jean\n",
            "Olá Jean, seja bem vindo ao nosso canal!\n",
            "Por favor, me informe sua idade:35\n",
            "Nossas opções são Rum, Cachaça, Vodka e Cerveja. Qual bebida você gostaria? Vinho\n",
            "Desculpe, mas não conheço essa bebida.\n",
            "\n",
            "Nossas opções são Rum, Cachaça, Vodka e Cerveja. Qual bebida você gostaria? Vodka\n",
            "Nossas opções são Rum, Cachaça, Vodka e Cerveja. Qual bebida você gostaria? Vodka\n",
            "O preço da Vodka é R$ 8,00. Aproveite!\n"
          ]
        }
      ]
    }
  ]
}