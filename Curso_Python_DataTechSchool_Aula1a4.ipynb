{
  "nbformat": 4,
  "nbformat_minor": 0,
  "metadata": {
    "colab": {
      "name": "Curso_Python_DataTechSchool_Aula1a4.ipynb",
      "provenance": [],
      "collapsed_sections": [],
      "authorship_tag": "ABX9TyPIwTJy60b9yIWr/ZfvT7qf",
      "include_colab_link": true
    },
    "kernelspec": {
      "name": "python3",
      "display_name": "Python 3"
    },
    "language_info": {
      "name": "python"
    }
  },
  "cells": [
    {
      "cell_type": "markdown",
      "metadata": {
        "id": "view-in-github",
        "colab_type": "text"
      },
      "source": [
        "<a href=\"https://colab.research.google.com/github/Warfera/Python/blob/estudos_fevereiro_2022/Curso_Python_DataTechSchool_Aula1a4.ipynb\" target=\"_parent\"><img src=\"https://colab.research.google.com/assets/colab-badge.svg\" alt=\"Open In Colab\"/></a>"
      ]
    },
    {
      "cell_type": "code",
      "execution_count": null,
      "metadata": {
        "colab": {
          "base_uri": "https://localhost:8080/"
        },
        "id": "F6LaEEmnouVM",
        "outputId": "53414803-54d9-4597-cbe7-7513e712f05c"
      },
      "outputs": [
        {
          "output_type": "stream",
          "name": "stdout",
          "text": [
            "digite o valor do preço do produto: R$5.50\n",
            "digite o valor da nota recebida: R$10\n",
            "Seu troco é: R$4.5\n"
          ]
        }
      ],
      "source": [
        "preco = float(input('digite o valor do preço do produto: R$'))\n",
        "nota = float(input('digite o valor da nota recebida: R$'))\n",
        "calcula_troco = nota - preco\n",
        "\n",
        "print(f'Seu troco é: R$ {calcula_troco}')\n",
        "  "
      ]
    },
    {
      "cell_type": "code",
      "source": [
        "pi = 3.14\n",
        "raio = float(input('digite o valor do raio: '))\n",
        "area_do_circulo = pi*(raio**2)\n",
        "\n",
        "print(f'A área do círculo é: {area_do_circulo}')"
      ],
      "metadata": {
        "colab": {
          "base_uri": "https://localhost:8080/"
        },
        "id": "exsrT-WUtcif",
        "outputId": "12cd6c4e-22ff-418f-aeaf-81f82c18b5b2"
      },
      "execution_count": null,
      "outputs": [
        {
          "output_type": "stream",
          "name": "stdout",
          "text": [
            "digite o valor do raio: 5\n",
            "A área do círculo é: 78.5\n"
          ]
        }
      ]
    },
    {
      "cell_type": "code",
      "source": [
        "area = float(input('digite o valor do raio: '))\n",
        "area_do_quadrado = area**2\n",
        "\n",
        "print(f'A área do quadrado é: {area_do_quadrado}')"
      ],
      "metadata": {
        "colab": {
          "base_uri": "https://localhost:8080/"
        },
        "id": "Y0KMd5dZJ7HF",
        "outputId": "47f5ccf4-5cd6-4cbd-b338-13d30e5e948b"
      },
      "execution_count": null,
      "outputs": [
        {
          "output_type": "stream",
          "name": "stdout",
          "text": [
            "digite o valor do raio: 5\n",
            "A área do quadrado é: 25.0\n"
          ]
        }
      ]
    },
    {
      "cell_type": "code",
      "source": [
        "repetir = True\n",
        "while repetir:\n",
        "  idade = input('Digite sua idade: ') # também daria certo  int(input('Digite sua idade: ')\n",
        "  idade = int(idade)  #Sempre transformar dados que entram via imput\n",
        "  if idade >=18 and idade <70:\n",
        "    print(f'Com {idade} anos, o seu voto é obrigatório!')\n",
        "  elif idade >=16:\n",
        "    print(f'Com {idade} anos, o seu voto é facultativo!')\n",
        "  else:\n",
        "    print(f'Com {idade} anos, você não pode votar!')\n",
        "\n",
        "  resposta = input('Deseja repetir? (s/n)')\n",
        "  if resposta == 'n' or resposta =='N':\n",
        "    repetir = False"
      ],
      "metadata": {
        "colab": {
          "base_uri": "https://localhost:8080/"
        },
        "id": "cAHDRhXKKRLw",
        "outputId": "6700dc79-2356-4e00-eae3-1e0003502e5c"
      },
      "execution_count": null,
      "outputs": [
        {
          "name": "stdout",
          "output_type": "stream",
          "text": [
            "Digite sua idade: 35\n",
            "Com 35 anos, o seu voto é obrigatório!\n",
            "Deseja repetir? (s/n)n\n"
          ]
        }
      ]
    },
    {
      "cell_type": "markdown",
      "source": [
        "# Baixando vídeo do Youtube"
      ],
      "metadata": {
        "id": "7_FRAahw3Epf"
      }
    },
    {
      "cell_type": "code",
      "source": [
        "!pip install pytube\n",
        "\n",
        "from pytube import YouTube\n",
        "yt = YouTube(\"https://www.youtube.com/watch?v=d4A-aqbhG2w\")\n",
        "video = yt.streams.get_highest_resolution()\n",
        "video.download()\n"
      ],
      "metadata": {
        "colab": {
          "base_uri": "https://localhost:8080/",
          "height": 53
        },
        "id": "Rt_BaXZK3KMN",
        "outputId": "5f214ab1-4f8f-4c6b-af18-81defcbf739b"
      },
      "execution_count": null,
      "outputs": [
        {
          "output_type": "stream",
          "name": "stdout",
          "text": [
            "Requirement already satisfied: pytube in /usr/local/lib/python3.7/dist-packages (12.0.0)\n"
          ]
        },
        {
          "output_type": "execute_result",
          "data": {
            "application/vnd.google.colaboratory.intrinsic+json": {
              "type": "string"
            },
            "text/plain": [
              "'/content/IMERSÃO POWER BI - AULA 4 - LANÇAMENTO DO DESAFIO.mp4'"
            ]
          },
          "metadata": {},
          "execution_count": 4
        }
      ]
    },
    {
      "cell_type": "markdown",
      "source": [
        "#Chatbot inicial"
      ],
      "metadata": {
        "id": "WUihRmzmZqYi"
      }
    },
    {
      "cell_type": "code",
      "source": [
        "nome = input('Qual o seu nome? ')\n",
        "print (f'Olá {nome}, seja bem vindo ao nosso canal!')\n",
        "idade = int(input('Por favor, me informe sua idade:'))\n",
        "\n",
        "\n",
        "  if idade >= 18:\n",
        "    \n",
        "    bebida = input('Nossas opções são Rum, Cachaça, Vodka e Cerveja. Qual bebida você gostaria? ')\n",
        "    if (bebida == \"Rum\"):\n",
        "      print ('O preço do Rum é R$ 20,00. Aproveite!')\n",
        "    \n",
        "    elif (bebida == \"Cachaca\"):\n",
        "      print ('O preço da Cachaça é R$ 10,00. Aproveite!')\n",
        "   \n",
        "    elif (bebida == \"Vodka\"):\n",
        "      print ('O preço da Vodka é R$ 8,00. Aproveite!')\n",
        "    \n",
        "    elif (bebida == \"Cerveja\"):\n",
        "      print ('O preço da Cerveja é R$ 6,00. Aproveite!')\n",
        "\n",
        "    else:\n",
        "      print (f'Desculpe, mas não conheço essa bebida.\\n')\n",
        "      bebida = input('Nossas opções são Rum, Cachaça, Vodka e Cerveja. Qual bebida você gostaria? ')\n",
        "  \n",
        "  else:\n",
        "    print ('Você tem menos de 18 anos e não pode comprar bebidas alcoólicas!')"
      ],
      "metadata": {
        "colab": {
          "base_uri": "https://localhost:8080/"
        },
        "id": "6FPeZd9JZvZB",
        "outputId": "0af5eec0-88b7-4619-8068-037bb89abcab"
      },
      "execution_count": null,
      "outputs": [
        {
          "output_type": "stream",
          "name": "stdout",
          "text": [
            "Qual o seu nome? Jean\n",
            "Olá Jean, seja bem vindo ao nosso canal!\n",
            "Por favor, me informe sua idade:35\n",
            "Nossas opções são Rum, Cachaça, Vodka e Cerveja. Qual bebida você gostaria? Vinho\n",
            "Desculpe, mas não conheço essa bebida.\n",
            "\n",
            "Nossas opções são Rum, Cachaça, Vodka e Cerveja. Qual bebida você gostaria? Vodka\n",
            "Nossas opções são Rum, Cachaça, Vodka e Cerveja. Qual bebida você gostaria? Vodka\n",
            "O preço da Vodka é R$ 8,00. Aproveite!\n"
          ]
        }
      ]
    },
    {
      "cell_type": "code",
      "source": [
        "nome = input('Qual o seu nome? ')\n",
        "print (f'Olá {nome}, seja bem vindo ao nosso canal!')\n",
        "forma_tratamento = input('Por favor, você gostaria de ser tratado como senhora ou senhor?: ')\n",
        "\n",
        "if forma_tratamento == \"Sr\" or forma_tratamento == \"sr\" or forma_tratamento == \"senhor\" or forma_tratamento == \"Senhor\" :\n",
        "  print(f'Senhor {nome}, foi um prazer te conhecer!')\n",
        "else:\n",
        "  print(f'Senhora {nome}, foi um prazer te conhecer!')\n"
      ],
      "metadata": {
        "colab": {
          "base_uri": "https://localhost:8080/"
        },
        "id": "Wgzb-O00Jtqw",
        "outputId": "f3d3dbad-6a11-4dce-c899-1174694b0310"
      },
      "execution_count": null,
      "outputs": [
        {
          "output_type": "stream",
          "name": "stdout",
          "text": [
            "Qual o seu nome? Jean\n",
            "Olá Jean, seja bem vindo ao nosso canal!\n",
            "Por favor, você gostaria de ser tratado como senhora ou senhor?: Senhor\n",
            "Senhor Jean, foi um prazer te conhecer!\n"
          ]
        }
      ]
    },
    {
      "cell_type": "code",
      "source": [
        "#lista = array\n",
        "\n",
        "lista_de_nomes = [\"Jean\", \"Alice\", \"Daniel\"]\n",
        "lista_precos = [10.50, 100.20,30]\n",
        "\n",
        "print(lista_de_nomes[1])\n",
        "print(lista_precos[2])"
      ],
      "metadata": {
        "colab": {
          "base_uri": "https://localhost:8080/"
        },
        "id": "o_1N0j4wLyw3",
        "outputId": "7310ce6b-8a8a-49a8-c56b-a306646aabc1"
      },
      "execution_count": null,
      "outputs": [
        {
          "output_type": "stream",
          "name": "stdout",
          "text": [
            "Alice\n",
            "30\n"
          ]
        }
      ]
    },
    {
      "cell_type": "code",
      "source": [
        "lista_de_nomes = []\n",
        "\n",
        "lista_de_nomes.append('Renan')\n",
        "lista_de_nomes.append('Rosimeri')\n",
        "lista_de_nomes.append('Jean')\n",
        "lista_de_nomes.remove('Renan')\n",
        "\n",
        "print(lista_de_nomes)\n",
        "for elemento in lista_de_nomes:\n",
        "  print(elemento)\n"
      ],
      "metadata": {
        "colab": {
          "base_uri": "https://localhost:8080/"
        },
        "id": "J5S_oes-xE7i",
        "outputId": "865c4492-4c32-4be4-f3e8-9c852b3252a4"
      },
      "execution_count": null,
      "outputs": [
        {
          "output_type": "stream",
          "name": "stdout",
          "text": [
            "['Rosimeri', 'Jean']\n",
            "Rosimeri\n",
            "Jean\n"
          ]
        }
      ]
    },
    {
      "cell_type": "code",
      "source": [
        "lista_de_numeros = range(1,11)\n",
        "\n",
        "for elemento in lista_de_numeros:\n",
        "  print(elemento)"
      ],
      "metadata": {
        "colab": {
          "base_uri": "https://localhost:8080/"
        },
        "id": "JxXaj3Ri2HsD",
        "outputId": "54abdb73-75b0-4ce2-c2e4-cc2aeb8a2a9a"
      },
      "execution_count": null,
      "outputs": [
        {
          "output_type": "stream",
          "name": "stdout",
          "text": [
            "1\n",
            "2\n",
            "3\n",
            "4\n",
            "5\n",
            "6\n",
            "7\n",
            "8\n",
            "9\n",
            "10\n"
          ]
        }
      ]
    },
    {
      "cell_type": "code",
      "source": [
        "continuar = 'sim'\n",
        "\n",
        "while (continuar == 'sim' or continuar == 'Sim'):\n",
        "  print('oi')\n",
        "  continuar = input('Deseja continuar? ')\n",
        "\n",
        "print('Saiu do loop')  \n",
        "\n"
      ],
      "metadata": {
        "colab": {
          "base_uri": "https://localhost:8080/"
        },
        "id": "WFtwm9w_366r",
        "outputId": "2435b036-217f-4c0f-c15f-d701c747fc5f"
      },
      "execution_count": null,
      "outputs": [
        {
          "output_type": "stream",
          "name": "stdout",
          "text": [
            "oi\n",
            "Deseja continuar? Sim\n",
            "oi\n",
            "Deseja continuar? não\n",
            "Saiu do loop\n"
          ]
        }
      ]
    },
    {
      "cell_type": "markdown",
      "source": [
        "#Programa bancário\n",
        "Mostrar Saldo\n",
        "Aplicar/Depositar\n",
        "Retirar/Saque\n",
        "Sair"
      ],
      "metadata": {
        "id": "Xmr-D1MM9dDr"
      }
    },
    {
      "cell_type": "code",
      "execution_count": null,
      "metadata": {
        "id": "ghdmJI4ec33z"
      },
      "outputs": [],
      "source": [
        "saldo = 1000.00\n",
        "sair = 'Não'\n",
        "\n",
        "while (sair == 'Não'):\n",
        "  print(f'Olá! Seja bem vindo ao sistema bancário Machado.\\nSeu saldo atual é de R$ {saldo}\\nQual operação bancária você deseja realizar?\\n')\n",
        "  operacao = input('Opção (1) - Depositar seu dinheiro\\nOpção (2) - Retirar ou Sacar seu dinheiro\\nOpção (3) - Sair\\nPor favor digite o número da opção desejada (1, 2 ou 3):' )\n",
        "  \n",
        "  if operacao == \"1\":\n",
        "    deposito = float(input('Você selecionou a opção de Depósito Bancário. Por favor digite qual o valor a ser depositado em sua Conta Corrente: R$ '))\n",
        "    confirmacao_deposito = input (f'Você irá depositar o valor de R$ {deposito} em sua conta corrente.\\nDeseja confirmar? Digite S para \"sim\" ou N para \"não\": ')\n",
        "      \n",
        "    if confirmacao_deposito == \"s\" or confirmacao_deposito == \"S\":\n",
        "      saldo = deposito + saldo\n",
        "      print (f'Obrigado! Seu novo saldo bancário é de R$ {saldo}\\n')\n",
        "      print ('Você será direcionado ao menu inicial.\\n')\n",
        "    else:\n",
        "      print('Você optou por não prosseguir com o depósito. Retornando ao menu inicial.\\n')\n",
        "    \n",
        "  if operacao == \"2\":\n",
        "    saque = float(input('Você selecionou a opção de Saque. Por favor digite qual o valor a ser retirado de sua Conta Corrente: R$ '))\n",
        "    confirmacao_saque = input (f'Você irá sacar o valor de R$ {saque} em sua conta corrente.\\nDeseja confirmar? Digite S para \"sim\" ou N para \"não\": ')\n",
        "    if confirmacao_saque == \"s\" or confirmacao_saque == \"S\":\n",
        "      saldo = saldo - saque\n",
        "      print (f'Obrigado! Seu novo saldo bancário é de R$ {saldo}\\n')\n",
        "      print ('Você será direcionado ao menu inicial.\\n')\n",
        "    else:\n",
        "        print('Você optou por não prosseguir com o saque. Retornando ao menu inicial.\\n')\n",
        "  if operacao == \"3\":\n",
        "    sair = 'Sim'\n",
        "    print('Agradecemos por sua confiança. Volte sempre!')\n",
        "  \n",
        "  else:\n",
        "      print('Você selecionou uma opção inválida. Por favor selecione uma das opções apresentadas no menu inicial.\\n')"
      ]
    },
    {
      "cell_type": "code",
      "source": [
        "saldo = 1000.00\n",
        "sair = 'Não'\n",
        "\n",
        "print(type (saldo))"
      ],
      "metadata": {
        "colab": {
          "base_uri": "https://localhost:8080/"
        },
        "id": "UT5LgYiOSXk9",
        "outputId": "91aad080-005c-4bed-c002-5c27ef92a1d7"
      },
      "execution_count": 91,
      "outputs": [
        {
          "output_type": "stream",
          "name": "stdout",
          "text": [
            "<class 'float'>\n"
          ]
        }
      ]
    }
  ]
}