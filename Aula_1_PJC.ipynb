{
  "nbformat": 4,
  "nbformat_minor": 0,
  "metadata": {
    "colab": {
      "name": "Aula_1_PJC.ipynb",
      "provenance": [],
      "collapsed_sections": []
    },
    "kernelspec": {
      "name": "python3",
      "display_name": "Python 3"
    },
    "language_info": {
      "name": "python"
    }
  },
  "cells": [
    {
      "cell_type": "code",
      "execution_count": null,
      "metadata": {
        "colab": {
          "base_uri": "https://localhost:8080/"
        },
        "id": "I-U464NkoxDt",
        "outputId": "8fed4eb4-1d43-497f-c9ff-28f30c6ba85a"
      },
      "outputs": [
        {
          "output_type": "stream",
          "name": "stdout",
          "text": [
            "Você é obrigado a votar!\n"
          ]
        }
      ],
      "source": [
        "idade = 35\n",
        "if idade >=18 and idade <70:\n",
        "  print(\"Você é obrigado a votar!\")\n",
        "  \n",
        "else:\n",
        "  print(\"Você não precisa votar!\") "
      ]
    },
    {
      "cell_type": "markdown",
      "source": [
        "# Variáveis e tipos de Dados"
      ],
      "metadata": {
        "id": "lejQjiGXvOAp"
      }
    },
    {
      "cell_type": "code",
      "source": [
        "# int integer inteiro\n",
        "dia = 19\n",
        "# float floating point\n",
        "valor = 42.98765443\n",
        "# str string\n",
        "nome = 'Jean'\n",
        "# bool boolean\n",
        "situacao_regular = True"
      ],
      "metadata": {
        "id": "7AXBAiLMvVuS"
      },
      "execution_count": null,
      "outputs": []
    },
    {
      "cell_type": "markdown",
      "source": [
        "# Saída de Dados - print"
      ],
      "metadata": {
        "id": "EopAbDWsxe7l"
      }
    },
    {
      "cell_type": "code",
      "source": [
        "print (dia)\n",
        "print (valor)\n",
        "print (nome)\n",
        "print (situacao_regular)"
      ],
      "metadata": {
        "colab": {
          "base_uri": "https://localhost:8080/"
        },
        "id": "guzycPQWxgwV",
        "outputId": "9c9a814d-8045-45b3-d8c2-d033c50c5c4b"
      },
      "execution_count": null,
      "outputs": [
        {
          "output_type": "stream",
          "name": "stdout",
          "text": [
            "19\n",
            "42.98765443\n",
            "Jean\n",
            "True\n"
          ]
        }
      ]
    },
    {
      "cell_type": "markdown",
      "source": [
        "# Controle de fluxo (if,else,elif)"
      ],
      "metadata": {
        "id": "unuQDHCZ1Zpm"
      }
    },
    {
      "cell_type": "code",
      "source": [
        "situacao_regular = True\n",
        "\n",
        "if situacao_regular:\n",
        "  print(\"Está regular!\")\n",
        "else:\n",
        "  print(\"Está irregular!\")\n",
        "\n",
        "print (\"fora do if para demonstrar indentação\")  "
      ],
      "metadata": {
        "colab": {
          "base_uri": "https://localhost:8080/"
        },
        "id": "o_BtFmgL1hau",
        "outputId": "d48e579c-edbb-4a4b-ae47-1a237220a417"
      },
      "execution_count": null,
      "outputs": [
        {
          "output_type": "stream",
          "name": "stdout",
          "text": [
            "Está regular!\n",
            "fora do if\n"
          ]
        }
      ]
    },
    {
      "cell_type": "code",
      "source": [
        "idade = 70\n",
        "if idade >= 18 and idade < 70:\n",
        "  print('Você deve votar!')\n",
        "else:\n",
        "  print('Você não precisa votar!')"
      ],
      "metadata": {
        "colab": {
          "base_uri": "https://localhost:8080/"
        },
        "id": "G2XwqSZ93GIY",
        "outputId": "fc4f2c8d-6c3b-4762-cf40-37334452ea65"
      },
      "execution_count": null,
      "outputs": [
        {
          "output_type": "stream",
          "name": "stdout",
          "text": [
            "Você não precisa votar!\n"
          ]
        }
      ]
    },
    {
      "cell_type": "code",
      "source": [
        "idade = 81\n",
        "if idade >= 18 and idade < 70: #AND = E faz tudo virar verdade se AMBAS das condições for verdadeira\n",
        "  print('Você deve votar!')\n",
        "elif idade >=16:  #or idade >=70: OR = OU faz tudo virar verdade se UMA das condições for verdadeira\n",
        "  print('Seu voto é facultativo!')\n",
        "else:\n",
        "  print('Você não pode votar!')"
      ],
      "metadata": {
        "colab": {
          "base_uri": "https://localhost:8080/"
        },
        "id": "d9iMkYlp4JlH",
        "outputId": "1b6f80c8-aad5-42dc-bc4c-ee11172491e5"
      },
      "execution_count": null,
      "outputs": [
        {
          "output_type": "stream",
          "name": "stdout",
          "text": [
            "Seu voto é facultativo!\n"
          ]
        }
      ]
    },
    {
      "cell_type": "markdown",
      "source": [
        "# Estrutura True / False"
      ],
      "metadata": {
        "id": "7Tg--s-26B-j"
      }
    },
    {
      "cell_type": "code",
      "source": [
        "# resultado das operações lógicas de E (and) e OU (or)\n",
        "print(\"Verdade E Verdade:\", True and True)\n",
        "print(\"Verdade E Falso:\", True and False) # a ordem não importa\n",
        "print(\"False E False:\", False and False)\n",
        "print(\"Verdade OU Verdade:\", True or True)\n",
        "print(\"Verdade OU False:\", True or False)\n",
        "print(\"False OU False:\", False or False)"
      ],
      "metadata": {
        "colab": {
          "base_uri": "https://localhost:8080/"
        },
        "id": "NScFTLQ25_Yl",
        "outputId": "13c5e098-b52d-41ee-ee08-8c2b0e86fa5d"
      },
      "execution_count": null,
      "outputs": [
        {
          "output_type": "stream",
          "name": "stdout",
          "text": [
            "Verdade E Verdade: True\n",
            "Verdade E Falso: False\n",
            "False E False: False\n",
            "Verdade OU Verdade: True\n",
            "Verdade OU False: True\n",
            "False OU False: False\n"
          ]
        }
      ]
    },
    {
      "cell_type": "markdown",
      "source": [
        "# Operações com dados"
      ],
      "metadata": {
        "id": "wIPt85i1NiH9"
      }
    },
    {
      "cell_type": "code",
      "source": [
        "print (35 + 52)\n",
        "print (42 / 5)\n",
        "print (42 // 5) \n",
        "print (42 % 5) #módulo - Resto da divisão inteira\n",
        "print ('Jean' + ' ' + 'Machado')\n",
        "print ('Essas são \"aspas\"')"
      ],
      "metadata": {
        "colab": {
          "base_uri": "https://localhost:8080/"
        },
        "id": "zamvVCLBNk3L",
        "outputId": "531f0cb4-4ae5-4972-ae92-0a79d02dcdeb"
      },
      "execution_count": null,
      "outputs": [
        {
          "output_type": "stream",
          "name": "stdout",
          "text": [
            "87\n",
            "8.4\n",
            "8\n",
            "2\n",
            "Jean Machado\n",
            "Essas são \"aspas\"\n"
          ]
        }
      ]
    },
    {
      "cell_type": "markdown",
      "source": [
        "#Conversões de tipos de dados"
      ],
      "metadata": {
        "id": "QrLmCkL3PAbS"
      }
    },
    {
      "cell_type": "code",
      "source": [
        "numero = '4'\n",
        "print (int (numero)+7)\n",
        "print (float (numero) +7)\n",
        "print (str (7) + ' ' + 'celular' + 'es')\n",
        "print (type (7))\n",
        "print (type (7.7))\n",
        "print (type ('Jean'))\n",
        "print (type (True))"
      ],
      "metadata": {
        "colab": {
          "base_uri": "https://localhost:8080/"
        },
        "id": "w44x92ItPD2f",
        "outputId": "0ff16ac1-1d18-4db8-bae2-608aadceefc5"
      },
      "execution_count": null,
      "outputs": [
        {
          "output_type": "stream",
          "name": "stdout",
          "text": [
            "11\n",
            "11.0\n",
            "7 celulares\n",
            "<class 'int'>\n",
            "<class 'float'>\n",
            "<class 'str'>\n",
            "<class 'bool'>\n"
          ]
        }
      ]
    },
    {
      "cell_type": "markdown",
      "source": [
        "# Entrada de dados"
      ],
      "metadata": {
        "id": "YNkabIYBQFDg"
      }
    },
    {
      "cell_type": "code",
      "source": [
        "idade = input ('Digite sua idade:') #Tudo que entra no input, entra como string\n",
        "idade = int (idade)\n",
        "print (idade + 4)"
      ],
      "metadata": {
        "colab": {
          "base_uri": "https://localhost:8080/"
        },
        "id": "_EjPWA5AQI21",
        "outputId": "910efb36-86be-4b7c-a048-a3e4c957c00d"
      },
      "execution_count": null,
      "outputs": [
        {
          "output_type": "stream",
          "name": "stdout",
          "text": [
            "Digite sua idade:35\n",
            "39\n"
          ]
        }
      ]
    },
    {
      "cell_type": "code",
      "source": [
        "idade = input ('Digite a sua idade: ')\n",
        "idade = int (idade)\n",
        "\n",
        "if idade >=18 and idade < 70:\n",
        "  print ('Você é OBRIGADO a votar!')\n",
        "elif idade >=16:\n",
        "  print ('Seu voto é FACULTATIVO!')\n",
        "else:\n",
        "  print ('Você NÃO pode votar!')    "
      ],
      "metadata": {
        "colab": {
          "base_uri": "https://localhost:8080/"
        },
        "id": "YtpqqkoXRp0e",
        "outputId": "a695694f-59aa-4a07-d3d7-f40253b06032"
      },
      "execution_count": null,
      "outputs": [
        {
          "output_type": "stream",
          "name": "stdout",
          "text": [
            "Digite a sua idade: 35\n",
            "Você é OBRIGADO a votar!\n"
          ]
        }
      ]
    },
    {
      "cell_type": "markdown",
      "source": [
        "# Formatação de Strings"
      ],
      "metadata": {
        "id": "hl7eH00STeAa"
      }
    },
    {
      "cell_type": "code",
      "source": [
        "idade = input ('Digite a sua idade: ')\n",
        "print ('Com ' + str (idade) + ' anos, você é obrigado a votar!')\n",
        "print ('Com',idade,'anos, você é obrigado a votar!')\n",
        "print (f'Com {idade} anos, você é obrigado a votar!') #melhor forma"
      ],
      "metadata": {
        "colab": {
          "base_uri": "https://localhost:8080/"
        },
        "id": "PRQGKGVVTjg9",
        "outputId": "9a928e73-3225-4a6f-c22f-47dccb91f4c5"
      },
      "execution_count": null,
      "outputs": [
        {
          "output_type": "stream",
          "name": "stdout",
          "text": [
            "Digite a sua idade: 35\n",
            "Com 35 anos, você é obrigado a votar!\n",
            "Com 35 anos, você é obrigado a votar!\n",
            "Com 35 anos, você é obrigado a votar!\n"
          ]
        }
      ]
    },
    {
      "cell_type": "code",
      "source": [
        "idade = input ('Digite a sua idade: ')\n",
        "idade = int (idade)\n",
        "\n",
        "if idade >=18 and idade < 70:\n",
        "  print (f'Com {idade} anos, seu voto é OBRIGATÓRIO!')\n",
        "elif idade >=16:\n",
        "  print (f'Com {idade} anos, seu voto é FACULTATIVO!')\n",
        "else:\n",
        "  print (f'Com {idade} anos, você NÃO pode votar!')  "
      ],
      "metadata": {
        "colab": {
          "base_uri": "https://localhost:8080/"
        },
        "id": "9sUxrBt7VLVW",
        "outputId": "e8497bda-a8dc-413c-f09f-4fb78f03967d"
      },
      "execution_count": null,
      "outputs": [
        {
          "output_type": "stream",
          "name": "stdout",
          "text": [
            "Digite a sua idade: 9\n",
            "Com 9 anos, você NÃO pode votar!\n"
          ]
        }
      ]
    }
  ]
}