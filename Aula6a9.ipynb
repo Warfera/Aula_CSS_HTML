{
  "nbformat": 4,
  "nbformat_minor": 0,
  "metadata": {
    "colab": {
      "name": "Aula6a9.ipynb",
      "provenance": [],
      "collapsed_sections": [],
      "authorship_tag": "ABX9TyPbnRJuuq6agbrSET35Yj5P",
      "include_colab_link": true
    },
    "kernelspec": {
      "name": "python3",
      "display_name": "Python 3"
    },
    "language_info": {
      "name": "python"
    }
  },
  "cells": [
    {
      "cell_type": "markdown",
      "metadata": {
        "id": "view-in-github",
        "colab_type": "text"
      },
      "source": [
        "<a href=\"https://colab.research.google.com/github/Warfera/Python/blob/estudos_marco_2022/Aula6a9.ipynb\" target=\"_parent\"><img src=\"https://colab.research.google.com/assets/colab-badge.svg\" alt=\"Open In Colab\"/></a>"
      ]
    },
    {
      "cell_type": "code",
      "execution_count": null,
      "metadata": {
        "colab": {
          "base_uri": "https://localhost:8080/"
        },
        "id": "0iVgxuEnrctw",
        "outputId": "95bd9ed9-1e09-41b3-a3f9-8acb82855132"
      },
      "outputs": [
        {
          "output_type": "stream",
          "name": "stdout",
          "text": [
            "Jean 35 1.94 100\n",
            "50\n"
          ]
        }
      ],
      "source": [
        "nome, idade, altura, peso = 'Jean', 35, 1.94, 100\n",
        "\n",
        "print(nome,idade, altura, peso)\n",
        "\n",
        "preco_livro_1 = preco_livro_2 = preco_livro_3 = 50\n",
        "\n",
        "print(preco_livro_2)"
      ]
    },
    {
      "cell_type": "code",
      "source": [
        "idade = int(\"18\")\n",
        "idade = int(idade)\n",
        "print(idade)\n",
        "\n",
        "preco_banana = 1.46\n",
        "preco_banana = int(preco_banana)\n",
        "print(preco_banana)\n",
        "\n",
        "numero = 10\n",
        "numero  = float(numero)\n",
        "print(numero )\n",
        "\n",
        "idade = 18\n",
        "idade  = str(idade)\n",
        "print(idade)"
      ],
      "metadata": {
        "colab": {
          "base_uri": "https://localhost:8080/"
        },
        "id": "wUQTkIUzxnZM",
        "outputId": "535bd283-1250-404f-eac0-b191f0da81d1"
      },
      "execution_count": null,
      "outputs": [
        {
          "output_type": "stream",
          "name": "stdout",
          "text": [
            "18\n",
            "1\n",
            "10.0\n",
            "18\n"
          ]
        }
      ]
    },
    {
      "cell_type": "code",
      "source": [
        "continua = 'sim'\n",
        "sacola = 0.00\n",
        "while continua =='sim':\n",
        "  prod_1 = float(input('Qual o valor do produto? R$ '))\n",
        "  sacola = sacola + prod_1\n",
        "\n",
        "  pergunta = input('Você deseja adicionar mais algum produto? Responda sim ou não')\n",
        "  if pergunta == 'sim':\n",
        "    print('Oba!')\n",
        "  else:\n",
        "    continua = 'não'\n",
        "    print(f'O preço a pagar por todos estes produtos é: R$ {sacola}')"
      ],
      "metadata": {
        "colab": {
          "base_uri": "https://localhost:8080/"
        },
        "id": "dm9TDeTE04Us",
        "outputId": "e05e1166-9a6d-44aa-c27a-6f130a0fe924"
      },
      "execution_count": null,
      "outputs": [
        {
          "output_type": "stream",
          "name": "stdout",
          "text": [
            "Qual o valor do produto? R$ 1.50\n",
            "Você deseja adicionar mais algum produto? Responda sim ou nãosim\n",
            "Oba!\n",
            "Qual o valor do produto? R$ 3\n",
            "Você deseja adicionar mais algum produto? Responda sim ou nãosim\n",
            "Oba!\n",
            "Qual o valor do produto? R$ 10\n",
            "Você deseja adicionar mais algum produto? Responda sim ou nãonão\n",
            "O preço a pagar por todos estes produtos é: R$ 14.5\n"
          ]
        }
      ]
    },
    {
      "cell_type": "code",
      "source": [
        "nome = 'JEAN'\n",
        "print(nome.lower())\n",
        "\n",
        "nome = 'JEAN'\n",
        "print(nome.capitalize())\n",
        "\n",
        "txt = 'O curso começa na segunda-feira! Não perca!'\n",
        "x  = txt.replace('segunda', 'sexta')\n",
        "print(x)"
      ],
      "metadata": {
        "colab": {
          "base_uri": "https://localhost:8080/"
        },
        "id": "o71A3KLI4Cpb",
        "outputId": "1b311cd5-c292-454a-a340-6484991c67b4"
      },
      "execution_count": null,
      "outputs": [
        {
          "output_type": "stream",
          "name": "stdout",
          "text": [
            "jean\n",
            "Jean\n",
            "O curso começa na sexta-feira! Não perca!\n"
          ]
        }
      ]
    },
    {
      "cell_type": "code",
      "source": [
        "lista = ['Jean','Alice','Daniel','Goguinho', 'Zezo']\n",
        "print(lista[0])\n",
        "print(lista[-1])\n",
        "print(lista[0:3])\n",
        "print(lista[1: ])\n",
        "print(lista[ :1])\n",
        "\n",
        "len(lista)\n",
        "for x in range(0,len(lista)):\n",
        "  print(lista[x])\n",
        "\n",
        "lista.append('Maria')\n",
        "print(lista)\n",
        "\n",
        "lista.insert(0,'José')\n",
        "print(lista)\n",
        "\n",
        "lista.sort()\n",
        "print(lista)\n",
        "\n",
        "lista.sort(reverse=True)\n",
        "print(lista)\n",
        "\n",
        "lista.pop(0)\n",
        "print(lista)\n",
        "\n",
        "del lista[0]\n",
        "print(lista)\n",
        "\n",
        "lista_copia = lista.copy()\n",
        "lista.append('Jojojojo')\n",
        "print(lista_copia)"
      ],
      "metadata": {
        "colab": {
          "base_uri": "https://localhost:8080/"
        },
        "id": "X_qaiqsL5ZuM",
        "outputId": "8e7d2593-7b3c-425e-bfd7-75082d36ecdc"
      },
      "execution_count": null,
      "outputs": [
        {
          "output_type": "stream",
          "name": "stdout",
          "text": [
            "Jean\n",
            "Zezo\n",
            "['Jean', 'Alice', 'Daniel']\n",
            "['Alice', 'Daniel', 'Goguinho', 'Zezo']\n",
            "['Jean']\n",
            "Jean\n",
            "Alice\n",
            "Daniel\n",
            "Goguinho\n",
            "Zezo\n",
            "['Jean', 'Alice', 'Daniel', 'Goguinho', 'Zezo', 'Maria']\n",
            "['José', 'Jean', 'Alice', 'Daniel', 'Goguinho', 'Zezo', 'Maria']\n",
            "['Alice', 'Daniel', 'Goguinho', 'Jean', 'José', 'Maria', 'Zezo']\n",
            "['Zezo', 'Maria', 'José', 'Jean', 'Goguinho', 'Daniel', 'Alice']\n",
            "['Maria', 'José', 'Jean', 'Goguinho', 'Daniel', 'Alice']\n",
            "['José', 'Jean', 'Goguinho', 'Daniel', 'Alice']\n",
            "['José', 'Jean', 'Goguinho', 'Daniel', 'Alice']\n"
          ]
        }
      ]
    },
    {
      "cell_type": "code",
      "source": [
        "continuar = \"sim\"\n",
        "nome = []\n",
        "while continuar == \"sim\":\n",
        "  \n",
        "  idade = int(input('Olá! Por favor digite a sua idade: \\n'))\n",
        "  if idade < 18:\n",
        "    print (f'Infelizmente em nossa festa não podem entrar menores de idade. Volte em {18 - idade} ')\n",
        "  elif idade > 18:\n",
        "    nome.append (input('Por favor digite o seu nome: \\n'))\n",
        "    if nome == \"João\":\n",
        "      print (f'Desculpe, mas não podemos permitir a sua entrada {nome}!')\n",
        "    else:\n",
        "      nome_lista = input(f'Seu nome está na lista de convidados {nome}! Digite o nome de mais pessoas que gostaria de convidar para a festa:\\n')\n",
        "      nome.append(nome_lista)\n",
        "      nome.append(nome.capitalize())\n",
        "      print(f'Os convidados para a festa são {nome}')\n",
        "  incluir_convidados = input('Deseja incluir mais convidados?')\n",
        "  if incluir_convidados == \"sim\":\n",
        "    nome_lista = input(f'Esse são os nomes na sua lista de convidados {nome}! Digite o nome de mais pessoas que gostaria de convidar para a festa:\\n')\n",
        "    nome.append(nome_lista)\n",
        "    print(f'Confirmando: Os convidados para a festa são {nome}')\n",
        "    continuar = \"não\"\n",
        "    print('Você já atingiu o limite de convidados! Nos vemos na festa! Adeus!')\n",
        "  else:\n",
        "    continuar = \"não\"\n",
        "    print('Obrigado! Nos encontramos na festa!')\n",
        "\n"
      ],
      "metadata": {
        "id": "yhqMxtWe4430"
      },
      "execution_count": null,
      "outputs": []
    },
    {
      "cell_type": "markdown",
      "source": [
        "Lista de convidados - Menor de 18 não entra"
      ],
      "metadata": {
        "id": "qZhBo1HqAvAI"
      }
    },
    {
      "cell_type": "code",
      "source": [
        "continuar = \"sim\"\n",
        "lista_de_convidados = []\n",
        "while continuar == \"sim\":\n",
        "  nome1 = input('Por favor, digite o nome do seu primeiro convidado:\\n')\n",
        "  lista_de_convidados.append(nome1.capitalize())\n",
        "  #idade1 = int(input(f'Por favor digite a idade do convidado {nome1}\\n:'))\n",
        "  idade1 = int(input('Por favor digite a idade do convidado:' +lista_de_convidados[-1]\\n ))\n",
        "  if idade1 < 18:\n",
        "    print('Infelizmente o convidado {nome1} é menor de idade e não pode participar da festa.')\n",
        "    lista_de_convidados.pop()\n",
        "  continuar = input('Deseja incluir outro convidado? sim ou não:')\n",
        "\n",
        "  print(\"Segue lista de convidados:\")\n",
        "  print(lista_de_convidados)\n",
        "  "
      ],
      "metadata": {
        "colab": {
          "base_uri": "https://localhost:8080/"
        },
        "id": "HNFE6MX7Clkk",
        "outputId": "4369856c-f9ca-4c7c-9194-f0d7912c1fe5"
      },
      "execution_count": null,
      "outputs": [
        {
          "output_type": "stream",
          "name": "stdout",
          "text": [
            "Por favor, digite o nome do seu primeiro convidado:\n",
            "jean\n",
            "Por favor digite a idade do convidado:Jean17\n",
            "Infelizmente o convidado {nome1} é menor de idade e não pode participar da festa.\n",
            "Deseja incluir outro convidado? sim ou não:sim\n",
            "Segue lista de convidados:\n",
            "[]\n",
            "Por favor, digite o nome do seu primeiro convidado:\n",
            "Alice\n",
            "Por favor digite a idade do convidado:Alice30\n",
            "Deseja incluir outro convidado? sim ou não:sim\n",
            "Segue lista de convidados:\n",
            "['Alice']\n",
            "Por favor, digite o nome do seu primeiro convidado:\n",
            "Jean\n",
            "Por favor digite a idade do convidado:Jean35\n",
            "Deseja incluir outro convidado? sim ou não:não\n",
            "Segue lista de convidados:\n",
            "['Alice', 'Jean']\n"
          ]
        }
      ]
    },
    {
      "cell_type": "markdown",
      "source": [
        "#Tupla = Imutável. Escreve com ( )\n",
        "#Lista = Mutável. Escreve com [ ]"
      ],
      "metadata": {
        "id": "1VpZg-_uxG0e"
      }
    },
    {
      "cell_type": "code",
      "source": [
        "tupla_de_nomes = ('Doguinho', 'Jean', 'Alice')\n",
        "print(tupla_de_nomes[0])\n",
        "print(tupla_de_nomes)\n",
        "\n",
        "lista_de_nomes = list(tupla_de_nomes)\n",
        "lista_de_nomes[0] = 'Daniel'\n",
        "lista_de_nomes.append('Doguinho')\n",
        "\n",
        "tupla_de_nomes = tuple(lista_de_nomes)\n",
        "print(tupla_de_nomes)"
      ],
      "metadata": {
        "colab": {
          "base_uri": "https://localhost:8080/"
        },
        "id": "Jc9tP0lrxDOV",
        "outputId": "2244ed5f-5bdd-40d1-ff2c-05008707a85c"
      },
      "execution_count": null,
      "outputs": [
        {
          "output_type": "stream",
          "name": "stdout",
          "text": [
            "Doguinho\n",
            "('Doguinho', 'Jean', 'Alice')\n",
            "('Daniel', 'Jean', 'Alice', 'Doguinho')\n"
          ]
        }
      ]
    },
    {
      "cell_type": "markdown",
      "source": [
        "#Conjuntos(Sets) = Desordenados, Mutáveis e guarda registros únicos. Escreve com { }:"
      ],
      "metadata": {
        "id": "gl6j1iE18NtE"
      }
    },
    {
      "cell_type": "code",
      "source": [
        "conjunto_de_nomes = {'Maria', 'José', 'João'}\n",
        "conjunto_de_nomes.add ('Matheus')\n",
        "print(conjunto_de_nomes)\n",
        "\n",
        "conjunto_de_nomes2 = ['Jean', 'Daniel', 'Alice', 'Maria', 'José']\n",
        "conjunto_de_nomes3 = ('Snake', 'Kratos', 'Sheldon')\n",
        "\n",
        "conjunto_de_nomes.update(conjunto_de_nomes2) \n",
        "conjunto_de_nomes.update(conjunto_de_nomes3) \n",
        "print(conjunto_de_nomes)\n",
        "\n",
        "conjunto_de_nomes.remove('Snake')\n",
        "conjunto_de_nomes.discard('Kratos')\n",
        "print(conjunto_de_nomes)"
      ],
      "metadata": {
        "colab": {
          "base_uri": "https://localhost:8080/"
        },
        "id": "pMahX1Cm9E_o",
        "outputId": "5675f85a-ddc7-4362-b4e4-6206c16bc200"
      },
      "execution_count": null,
      "outputs": [
        {
          "output_type": "stream",
          "name": "stdout",
          "text": [
            "{'Matheus', 'José', 'Maria', 'João'}\n",
            "{'Snake', 'Matheus', 'Sheldon', 'Kratos', 'Maria', 'Daniel', 'Alice', 'João', 'Jean', 'José'}\n",
            "{'Matheus', 'Sheldon', 'Maria', 'Daniel', 'Alice', 'João', 'Jean', 'José'}\n"
          ]
        }
      ]
    },
    {
      "cell_type": "code",
      "source": [
        "#Diferença\n",
        "conjunto_de_nomes1 = {'Maria', 'José', 'João'}\n",
        "conjunto_de_nomes2 = {'Maria', 'Jean', 'João'}\n",
        "\n",
        "diferenca = conjunto_de_nomes1.difference(conjunto_de_nomes2)\n",
        "print(diferenca)\n",
        "print('====')\n",
        "#intersecção\n",
        "conjunto_de_nomes1 = {'Maria', 'José', 'João'}\n",
        "conjunto_de_nomes2 = {'Maria', 'Jean', 'João'}\n",
        "\n",
        "diferenca = conjunto_de_nomes1.intersection(conjunto_de_nomes2)\n",
        "print(diferenca)\n",
        "print('====')\n",
        "#Se um conjunto é subconjunto de outro maior\n",
        "conjunto_de_nomes_escola = {'Maria', 'José', 'João'}\n",
        "conjunto_de_nomes_aula = {'Maria','João'}\n",
        "\n",
        "se_subconjunto_for_verdadeiro = conjunto_de_nomes_aula.issubset(conjunto_de_nomes_escola)\n",
        "print(se_subconjunto_for_verdadeiro)"
      ],
      "metadata": {
        "colab": {
          "base_uri": "https://localhost:8080/"
        },
        "id": "w01a1ug_A-8d",
        "outputId": "a56d4c94-e1f5-4f70-bbf5-61b440debb94"
      },
      "execution_count": 1,
      "outputs": [
        {
          "output_type": "stream",
          "name": "stdout",
          "text": [
            "{'José'}\n",
            "====\n",
            "{'Maria', 'João'}\n",
            "====\n",
            "True\n"
          ]
        }
      ]
    },
    {
      "cell_type": "code",
      "source": [
        "#Dictionaries(vírgula no final de cada atributo)\n",
        "\n",
        "dicionario = {\n",
        "    'nome': 'Jean',\n",
        "    'idade': 35,\n",
        "    'altura': 1.94,\n",
        "    'filhos':['Daniel', 'Bruno']\n",
        "}\n",
        "\n",
        "print(dicionario)\n",
        "print(dicionario['idade'])\n",
        "print(dicionario['nome'])\n",
        "print(dicionario['altura'])\n",
        "print(dicionario['filhos'])\n",
        "print(dicionario['filhos'][0])\n",
        "print(dicionario['filhos'][1])\n",
        "\n",
        "print('====')\n",
        "\n",
        "dicionario['filhos'][1] = 'Doguinho'\n",
        "print(dicionario)\n",
        "print(dicionario['filhos'])\n",
        "\n",
        "print('====')\n",
        "\n",
        "dicionario['peso'] = 100\n",
        "print(dicionario)"
      ],
      "metadata": {
        "colab": {
          "base_uri": "https://localhost:8080/"
        },
        "id": "y5CCPLZnDKLm",
        "outputId": "b55946e0-b4ec-4713-cb84-384190bb6c37"
      },
      "execution_count": null,
      "outputs": [
        {
          "output_type": "stream",
          "name": "stdout",
          "text": [
            "{'nome': 'Jean', 'idade': 35, 'altura': 1.94, 'filhos': ['Daniel', 'Bruno']}\n",
            "35\n",
            "Jean\n",
            "1.94\n",
            "['Daniel', 'Bruno']\n",
            "Daniel\n",
            "Bruno\n",
            "====\n",
            "{'nome': 'Jean', 'idade': 35, 'altura': 1.94, 'filhos': ['Daniel', 'Doguinho']}\n",
            "['Daniel', 'Doguinho']\n",
            "====\n",
            "{'nome': 'Jean', 'idade': 35, 'altura': 1.94, 'filhos': ['Daniel', 'Doguinho'], 'peso': 100}\n"
          ]
        }
      ]
    },
    {
      "cell_type": "code",
      "source": [
        "chaves = dicionario.keys()\n",
        "print(chaves)\n",
        "valores = dicionario.values()\n",
        "print(valores)"
      ],
      "metadata": {
        "colab": {
          "base_uri": "https://localhost:8080/"
        },
        "id": "S3QcVtqgF1zd",
        "outputId": "fb920593-28a1-4fef-b5ef-f60a0ed6bbd8"
      },
      "execution_count": null,
      "outputs": [
        {
          "output_type": "stream",
          "name": "stdout",
          "text": [
            "dict_keys(['nome', 'idade', 'altura', 'filhos', 'peso'])\n",
            "dict_values(['Jean', 35, 1.94, ['Daniel', 'Doguinho'], 100])\n"
          ]
        }
      ]
    },
    {
      "cell_type": "code",
      "source": [
        "dicionario.pop('peso')\n",
        "print(dicionario)"
      ],
      "metadata": {
        "colab": {
          "base_uri": "https://localhost:8080/"
        },
        "id": "ihQaO6MiGMKU",
        "outputId": "02cc48fb-a662-418b-88bf-a45c419f758b"
      },
      "execution_count": null,
      "outputs": [
        {
          "output_type": "stream",
          "name": "stdout",
          "text": [
            "{'nome': 'Jean', 'idade': 35, 'altura': 1.94, 'filhos': ['Daniel', 'Doguinho']}\n"
          ]
        }
      ]
    },
    {
      "cell_type": "code",
      "source": [
        "for chave in dicionario:\n",
        "  print(chave)"
      ],
      "metadata": {
        "colab": {
          "base_uri": "https://localhost:8080/"
        },
        "id": "D2faH6-IGbv4",
        "outputId": "a4444428-6d7e-48ea-f783-d207eaa09b29"
      },
      "execution_count": null,
      "outputs": [
        {
          "output_type": "stream",
          "name": "stdout",
          "text": [
            "nome\n",
            "idade\n",
            "altura\n",
            "filhos\n"
          ]
        }
      ]
    },
    {
      "cell_type": "code",
      "source": [
        "for chave in dicionario:\n",
        "  print(dicionario[chave])"
      ],
      "metadata": {
        "colab": {
          "base_uri": "https://localhost:8080/"
        },
        "id": "5gW7k-OBGnzX",
        "outputId": "2a924ef3-ae93-46ed-de75-eedc2a7a28a0"
      },
      "execution_count": null,
      "outputs": [
        {
          "output_type": "stream",
          "name": "stdout",
          "text": [
            "Jean\n",
            "35\n",
            "1.94\n",
            "['Daniel', 'Doguinho']\n"
          ]
        }
      ]
    },
    {
      "cell_type": "code",
      "source": [
        "dicionario = {\n",
        "    'pessoa1': {\n",
        "      'nome': 'Jean',\n",
        "      'idade': 35,\n",
        "      'altura': 1.94,\n",
        "      'filhos':['Daniel', 'Bruno']\n",
        "    },\n",
        "    \n",
        "    'pessoa2': {\n",
        "      'nome': 'Alice',\n",
        "      'idade': 33,\n",
        "      'altura': 1.70,\n",
        "      'filhos':['Maria']\n",
        "    },\n",
        "       \n",
        "    'pessoa3': {\n",
        "      'nome': 'Daniel',\n",
        "      'idade': 26,\n",
        "      'altura': 1.50,\n",
        "      'filhos':[]\n",
        "    },\n",
        "}\n",
        "\n",
        "\n",
        "print(dicionario)\n",
        "\n",
        "print('====')\n",
        "\n",
        "print(dicionario['pessoa3']['idade'])"
      ],
      "metadata": {
        "colab": {
          "base_uri": "https://localhost:8080/"
        },
        "id": "a2OF29b1HBa0",
        "outputId": "96370fe2-3090-4f38-fd59-b3e199b600f6"
      },
      "execution_count": null,
      "outputs": [
        {
          "output_type": "stream",
          "name": "stdout",
          "text": [
            "{'pessoa1': {'nome': 'Jean', 'idade': 35, 'altura': 1.94, 'filhos': ['Daniel', 'Bruno']}, 'pessoa2': {'nome': 'Alice', 'idade': 33, 'altura': 1.7, 'filhos': ['Maria']}, 'pessoa3': {'nome': 'Daniel', 'idade': 26, 'altura': 1.5, 'filhos': []}}\n",
            "====\n",
            "26\n"
          ]
        }
      ]
    },
    {
      "cell_type": "code",
      "source": [
        "continuar = \"sim\"\n",
        "lista_de_convidados = []\n",
        "while continuar == \"sim\":\n",
        "  nome1 = input('Por favor, digite o nome do seu primeiro convidado:\\n')\n",
        "  lista_de_convidados.append(nome1.capitalize())\n",
        "  #idade1 = int(input(f'Por favor digite a idade do convidado {nome1}\\n:'))\n",
        "  idade1 = int(input('Por favor digite a idade do convidado:' +lista_de_convidados[-1]))\n",
        "  if idade1 < 18:\n",
        "    print('Infelizmente o convidado {nome1} é menor de idade e não pode participar da festa.')\n",
        "    lista_de_convidados.pop()\n",
        "  continuar = input('Deseja incluir outro convidado? sim ou não:')\n",
        "\n",
        "  print(\"Segue lista de convidados:\")\n",
        "  conjunto_de_convidados = set(lista_de_convidados)\n",
        "  print(conjunto_de_convidados)"
      ],
      "metadata": {
        "colab": {
          "base_uri": "https://localhost:8080/"
        },
        "id": "oPwB1-56Irx4",
        "outputId": "7817c459-74a6-4781-b144-4b170121e635"
      },
      "execution_count": null,
      "outputs": [
        {
          "output_type": "stream",
          "name": "stdout",
          "text": [
            "Por favor, digite o nome do seu primeiro convidado:\n",
            "Jean\n",
            "Por favor digite a idade do convidado:Jean40\n",
            "Deseja incluir outro convidado? sim ou não:sim\n",
            "Segue lista de convidados:\n",
            "{'Jean'}\n",
            "Por favor, digite o nome do seu primeiro convidado:\n",
            "Jean\n",
            "Por favor digite a idade do convidado:Jean80\n",
            "Deseja incluir outro convidado? sim ou não:não\n",
            "Segue lista de convidados:\n",
            "{'Jean'}\n"
          ]
        }
      ]
    },
    {
      "cell_type": "markdown",
      "source": [
        "Homeworking"
      ],
      "metadata": {
        "id": "Cusr8VFrpWQ4"
      }
    },
    {
      "cell_type": "code",
      "source": [
        "continuar = \"sim\"\n",
        "dicionario_convidados = {}\n",
        "indice = 1\n",
        "\n",
        "while (continuar == \"sim\"):\n",
        "  convidado = {}\n",
        "  nome = input('Ola´! Por favor digite o nome do convidado:  ')\n",
        "  convidado['nome'] = nome\n",
        "  idade = input('Agora digite a idade do convidado:   ')\n",
        "  convidado['idade'] = idade\n",
        "\n",
        "  dicionario_convidados[indice] = convidado\n",
        "  indice = indice + 1\n",
        "\n",
        "  continuar = input('Deseja incluir mais algum convidade? sim ou não:   ')\n",
        "\n",
        "print('Lista de convidados:\\n', dicionario_convidados)\n",
        "\n"
      ],
      "metadata": {
        "colab": {
          "base_uri": "https://localhost:8080/"
        },
        "id": "P276NGx3qKFb",
        "outputId": "caf3f331-18a3-4920-e5c8-ea9713270940"
      },
      "execution_count": 5,
      "outputs": [
        {
          "output_type": "stream",
          "name": "stdout",
          "text": [
            "Ola´! Por favor digite o nome do convidado:  Jean\n",
            "Agora digite a idade do convidado:   35\n",
            "Deseja incluir mais algum convidade? sim ou não:   sim\n",
            "Ola´! Por favor digite o nome do convidado:  Alice\n",
            "Agora digite a idade do convidado:   33\n",
            "Deseja incluir mais algum convidade? sim ou não:   sim\n",
            "Ola´! Por favor digite o nome do convidado:  Daniel\n",
            "Agora digite a idade do convidado:   05\n",
            "Deseja incluir mais algum convidade? sim ou não:   não\n",
            "Lista de convidados:\n",
            " {1: {'nome': 'Jean', 'idade': '35'}, 2: {'nome': 'Alice', 'idade': '33'}, 3: {'nome': 'Daniel', 'idade': '05'}}\n"
          ]
        }
      ]
    }
  ]
}