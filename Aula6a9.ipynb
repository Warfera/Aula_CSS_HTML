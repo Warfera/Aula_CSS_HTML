{
  "nbformat": 4,
  "nbformat_minor": 0,
  "metadata": {
    "colab": {
      "name": "Aula6a9.ipynb",
      "provenance": [],
      "collapsed_sections": [],
      "authorship_tag": "ABX9TyNLkMv+inufxxhHWo/hdccg",
      "include_colab_link": true
    },
    "kernelspec": {
      "name": "python3",
      "display_name": "Python 3"
    },
    "language_info": {
      "name": "python"
    }
  },
  "cells": [
    {
      "cell_type": "markdown",
      "metadata": {
        "id": "view-in-github",
        "colab_type": "text"
      },
      "source": [
        "<a href=\"https://colab.research.google.com/github/Warfera/Python/blob/estudos_marco_2022/Aula6a9.ipynb\" target=\"_parent\"><img src=\"https://colab.research.google.com/assets/colab-badge.svg\" alt=\"Open In Colab\"/></a>"
      ]
    },
    {
      "cell_type": "code",
      "execution_count": null,
      "metadata": {
        "colab": {
          "base_uri": "https://localhost:8080/"
        },
        "id": "0iVgxuEnrctw",
        "outputId": "95bd9ed9-1e09-41b3-a3f9-8acb82855132"
      },
      "outputs": [
        {
          "output_type": "stream",
          "name": "stdout",
          "text": [
            "Jean 35 1.94 100\n",
            "50\n"
          ]
        }
      ],
      "source": [
        "nome, idade, altura, peso = 'Jean', 35, 1.94, 100\n",
        "\n",
        "print(nome,idade, altura, peso)\n",
        "\n",
        "preco_livro_1 = preco_livro_2 = preco_livro_3 = 50\n",
        "\n",
        "print(preco_livro_2)"
      ]
    },
    {
      "cell_type": "code",
      "source": [
        "idade = int(\"18\")\n",
        "idade = int(idade)\n",
        "print(idade)\n",
        "\n",
        "preco_banana = 1.46\n",
        "preco_banana = int(preco_banana)\n",
        "print(preco_banana)\n",
        "\n",
        "numero = 10\n",
        "numero  = float(numero)\n",
        "print(numero )\n",
        "\n",
        "idade = 18\n",
        "idade  = str(idade)\n",
        "print(idade)"
      ],
      "metadata": {
        "colab": {
          "base_uri": "https://localhost:8080/"
        },
        "id": "wUQTkIUzxnZM",
        "outputId": "535bd283-1250-404f-eac0-b191f0da81d1"
      },
      "execution_count": null,
      "outputs": [
        {
          "output_type": "stream",
          "name": "stdout",
          "text": [
            "18\n",
            "1\n",
            "10.0\n",
            "18\n"
          ]
        }
      ]
    },
    {
      "cell_type": "code",
      "source": [
        "continua = 'sim'\n",
        "sacola = 0.00\n",
        "while continua =='sim':\n",
        "  prod_1 = float(input('Qual o valor do produto? R$ '))\n",
        "  sacola = sacola + prod_1\n",
        "\n",
        "  pergunta = input('Você deseja adicionar mais algum produto? Responda sim ou não')\n",
        "  if pergunta == 'sim':\n",
        "    print('Oba!')\n",
        "  else:\n",
        "    continua = 'não'\n",
        "    print(f'O preço a pagar por todos estes produtos é: R$ {sacola}')"
      ],
      "metadata": {
        "colab": {
          "base_uri": "https://localhost:8080/"
        },
        "id": "dm9TDeTE04Us",
        "outputId": "e05e1166-9a6d-44aa-c27a-6f130a0fe924"
      },
      "execution_count": null,
      "outputs": [
        {
          "output_type": "stream",
          "name": "stdout",
          "text": [
            "Qual o valor do produto? R$ 1.50\n",
            "Você deseja adicionar mais algum produto? Responda sim ou nãosim\n",
            "Oba!\n",
            "Qual o valor do produto? R$ 3\n",
            "Você deseja adicionar mais algum produto? Responda sim ou nãosim\n",
            "Oba!\n",
            "Qual o valor do produto? R$ 10\n",
            "Você deseja adicionar mais algum produto? Responda sim ou nãonão\n",
            "O preço a pagar por todos estes produtos é: R$ 14.5\n"
          ]
        }
      ]
    },
    {
      "cell_type": "code",
      "source": [
        "nome = 'JEAN'\n",
        "print(nome.lower())\n",
        "\n",
        "nome = 'JEAN'\n",
        "print(nome.capitalize())\n",
        "\n",
        "txt = 'O curso começa na segunda-feira! Não perca!'\n",
        "x  = txt.replace('segunda', 'sexta')\n",
        "print(x)"
      ],
      "metadata": {
        "colab": {
          "base_uri": "https://localhost:8080/"
        },
        "id": "o71A3KLI4Cpb",
        "outputId": "1b311cd5-c292-454a-a340-6484991c67b4"
      },
      "execution_count": null,
      "outputs": [
        {
          "output_type": "stream",
          "name": "stdout",
          "text": [
            "jean\n",
            "Jean\n",
            "O curso começa na sexta-feira! Não perca!\n"
          ]
        }
      ]
    },
    {
      "cell_type": "code",
      "source": [
        "lista = ['Jean','Alice','Daniel','Goguinho', 'Zezo']\n",
        "print(lista[0])\n",
        "print(lista[-1])\n",
        "print(lista[0:3])\n",
        "print(lista[1: ])\n",
        "print(lista[ :1])\n",
        "\n",
        "len(lista)\n",
        "for x in range(0,len(lista)):\n",
        "  print(lista[x])\n",
        "\n",
        "lista.append('Maria')\n",
        "print(lista)\n",
        "\n",
        "lista.insert(0,'José')\n",
        "print(lista)\n",
        "\n",
        "lista.sort()\n",
        "print(lista)\n",
        "\n",
        "lista.sort(reverse=True)\n",
        "print(lista)\n",
        "\n",
        "lista.pop(0)\n",
        "print(lista)\n",
        "\n",
        "del lista[0]\n",
        "print(lista)\n",
        "\n",
        "lista_copia = lista.copy()\n",
        "lista.append('Jojojojo')\n",
        "print(lista_copia)"
      ],
      "metadata": {
        "colab": {
          "base_uri": "https://localhost:8080/"
        },
        "id": "X_qaiqsL5ZuM",
        "outputId": "8e7d2593-7b3c-425e-bfd7-75082d36ecdc"
      },
      "execution_count": null,
      "outputs": [
        {
          "output_type": "stream",
          "name": "stdout",
          "text": [
            "Jean\n",
            "Zezo\n",
            "['Jean', 'Alice', 'Daniel']\n",
            "['Alice', 'Daniel', 'Goguinho', 'Zezo']\n",
            "['Jean']\n",
            "Jean\n",
            "Alice\n",
            "Daniel\n",
            "Goguinho\n",
            "Zezo\n",
            "['Jean', 'Alice', 'Daniel', 'Goguinho', 'Zezo', 'Maria']\n",
            "['José', 'Jean', 'Alice', 'Daniel', 'Goguinho', 'Zezo', 'Maria']\n",
            "['Alice', 'Daniel', 'Goguinho', 'Jean', 'José', 'Maria', 'Zezo']\n",
            "['Zezo', 'Maria', 'José', 'Jean', 'Goguinho', 'Daniel', 'Alice']\n",
            "['Maria', 'José', 'Jean', 'Goguinho', 'Daniel', 'Alice']\n",
            "['José', 'Jean', 'Goguinho', 'Daniel', 'Alice']\n",
            "['José', 'Jean', 'Goguinho', 'Daniel', 'Alice']\n"
          ]
        }
      ]
    },
    {
      "cell_type": "code",
      "source": [
        "continuar = \"sim\"\n",
        "nome = []\n",
        "while continuar == \"sim\":\n",
        "  \n",
        "  idade = int(input('Olá! Por favor digite a sua idade: \\n'))\n",
        "  if idade < 18:\n",
        "    print (f'Infelizmente em nossa festa não podem entrar menores de idade. Volte em {18 - idade} ')\n",
        "  elif idade > 18:\n",
        "    nome.append (input('Por favor digite o seu nome: \\n'))\n",
        "    if nome == \"João\":\n",
        "      print (f'Desculpe, mas não podemos permitir a sua entrada {nome}!')\n",
        "    else:\n",
        "      nome_lista = input(f'Seu nome está na lista de convidados {nome}! Digite o nome de mais pessoas que gostaria de convidar para a festa:\\n')\n",
        "      nome.append(nome_lista)\n",
        "      nome.append(nome.capitalize())\n",
        "      print(f'Os convidados para a festa são {nome}')\n",
        "  incluir_convidados = input('Deseja incluir mais convidados?')\n",
        "  if incluir_convidados == \"sim\":\n",
        "    nome_lista = input(f'Esse são os nomes na sua lista de convidados {nome}! Digite o nome de mais pessoas que gostaria de convidar para a festa:\\n')\n",
        "    nome.append(nome_lista)\n",
        "    print(f'Confirmando: Os convidados para a festa são {nome}')\n",
        "    continuar = \"não\"\n",
        "    print('Você já atingiu o limite de convidados! Nos vemos na festa! Adeus!')\n",
        "  else:\n",
        "    continuar = \"não\"\n",
        "    print('Obrigado! Nos encontramos na festa!')\n",
        "\n"
      ],
      "metadata": {
        "id": "yhqMxtWe4430"
      },
      "execution_count": null,
      "outputs": []
    },
    {
      "cell_type": "markdown",
      "source": [
        "Lista de convidados - Menor de 18 não entra"
      ],
      "metadata": {
        "id": "qZhBo1HqAvAI"
      }
    },
    {
      "cell_type": "code",
      "source": [
        "continuar = \"sim\"\n",
        "lista_de_convidados = []\n",
        "while continuar == \"sim\":\n",
        "  nome1 = input('Por favor, digite o nome do seu primeiro convidado:\\n')\n",
        "  lista_de_convidados.append(nome1.capitalize())\n",
        "  #idade1 = int(input(f'Por favor digite a idade do convidado {nome1}\\n:'))\n",
        "  idade1 = int(input('Por favor digite a idade do convidado:' +lista_de_convidados[-1]\\n ))\n",
        "  if idade1 < 18:\n",
        "    print('Infelizmente o convidado {nome1} é menor de idade e não pode participar da festa.')\n",
        "    lista_de_convidados.pop()\n",
        "  continuar = input('Deseja incluir outro convidado? sim ou não:')\n",
        "\n",
        "  print(\"Segue lista de convidados:\")\n",
        "  print(lista_de_convidados)\n",
        "  "
      ],
      "metadata": {
        "colab": {
          "base_uri": "https://localhost:8080/"
        },
        "id": "HNFE6MX7Clkk",
        "outputId": "4369856c-f9ca-4c7c-9194-f0d7912c1fe5"
      },
      "execution_count": 3,
      "outputs": [
        {
          "output_type": "stream",
          "name": "stdout",
          "text": [
            "Por favor, digite o nome do seu primeiro convidado:\n",
            "jean\n",
            "Por favor digite a idade do convidado:Jean17\n",
            "Infelizmente o convidado {nome1} é menor de idade e não pode participar da festa.\n",
            "Deseja incluir outro convidado? sim ou não:sim\n",
            "Segue lista de convidados:\n",
            "[]\n",
            "Por favor, digite o nome do seu primeiro convidado:\n",
            "Alice\n",
            "Por favor digite a idade do convidado:Alice30\n",
            "Deseja incluir outro convidado? sim ou não:sim\n",
            "Segue lista de convidados:\n",
            "['Alice']\n",
            "Por favor, digite o nome do seu primeiro convidado:\n",
            "Jean\n",
            "Por favor digite a idade do convidado:Jean35\n",
            "Deseja incluir outro convidado? sim ou não:não\n",
            "Segue lista de convidados:\n",
            "['Alice', 'Jean']\n"
          ]
        }
      ]
    },
    {
      "cell_type": "markdown",
      "source": [
        "#Tupla = Imutável. Escreve com ( )\n",
        "#Lista = Mutável. Escreve com [ ]"
      ],
      "metadata": {
        "id": "1VpZg-_uxG0e"
      }
    },
    {
      "cell_type": "code",
      "source": [
        "tupla_de_nomes = ('Doguinho', 'Jean', 'Alice')\n",
        "print(tupla_de_nomes[0])\n",
        "print(tupla_de_nomes)\n",
        "\n",
        "lista_de_nomes = list(tupla_de_nomes)\n",
        "lista_de_nomes[0] = 'Daniel'\n",
        "lista_de_nomes.append('Doguinho')\n",
        "\n",
        "tupla_de_nomes = tuple(lista_de_nomes)\n",
        "print(tupla_de_nomes)"
      ],
      "metadata": {
        "colab": {
          "base_uri": "https://localhost:8080/"
        },
        "id": "Jc9tP0lrxDOV",
        "outputId": "2244ed5f-5bdd-40d1-ff2c-05008707a85c"
      },
      "execution_count": 7,
      "outputs": [
        {
          "output_type": "stream",
          "name": "stdout",
          "text": [
            "Doguinho\n",
            "('Doguinho', 'Jean', 'Alice')\n",
            "('Daniel', 'Jean', 'Alice', 'Doguinho')\n"
          ]
        }
      ]
    }
  ]
}