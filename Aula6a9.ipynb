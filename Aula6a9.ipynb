{
  "nbformat": 4,
  "nbformat_minor": 0,
  "metadata": {
    "colab": {
      "name": "Aula6a9.ipynb",
      "provenance": [],
      "authorship_tag": "ABX9TyNKSHZqHYYigHA39m9wHVot",
      "include_colab_link": true
    },
    "kernelspec": {
      "name": "python3",
      "display_name": "Python 3"
    },
    "language_info": {
      "name": "python"
    }
  },
  "cells": [
    {
      "cell_type": "markdown",
      "metadata": {
        "id": "view-in-github",
        "colab_type": "text"
      },
      "source": [
        "<a href=\"https://colab.research.google.com/github/Warfera/Python/blob/estudos_fevereiro_2022/Aula6a9.ipynb\" target=\"_parent\"><img src=\"https://colab.research.google.com/assets/colab-badge.svg\" alt=\"Open In Colab\"/></a>"
      ]
    },
    {
      "cell_type": "code",
      "execution_count": 8,
      "metadata": {
        "colab": {
          "base_uri": "https://localhost:8080/"
        },
        "id": "0iVgxuEnrctw",
        "outputId": "95bd9ed9-1e09-41b3-a3f9-8acb82855132"
      },
      "outputs": [
        {
          "output_type": "stream",
          "name": "stdout",
          "text": [
            "Jean 35 1.94 100\n",
            "50\n"
          ]
        }
      ],
      "source": [
        "nome, idade, altura, peso = 'Jean', 35, 1.94, 100\n",
        "\n",
        "print(nome,idade, altura, peso)\n",
        "\n",
        "preco_livro_1 = preco_livro_2 = preco_livro_3 = 50\n",
        "\n",
        "print(preco_livro_2)"
      ]
    },
    {
      "cell_type": "code",
      "source": [
        "idade = int(\"18\")\n",
        "idade = int(idade)\n",
        "print(idade)\n",
        "\n",
        "preco_banana = 1.46\n",
        "preco_banana = int(preco_banana)\n",
        "print(preco_banana)\n",
        "\n",
        "numero = 10\n",
        "numero  = float(numero)\n",
        "print(numero )\n",
        "\n",
        "idade = 18\n",
        "idade  = str(idade)\n",
        "print(idade)"
      ],
      "metadata": {
        "colab": {
          "base_uri": "https://localhost:8080/"
        },
        "id": "wUQTkIUzxnZM",
        "outputId": "535bd283-1250-404f-eac0-b191f0da81d1"
      },
      "execution_count": 12,
      "outputs": [
        {
          "output_type": "stream",
          "name": "stdout",
          "text": [
            "18\n",
            "1\n",
            "10.0\n",
            "18\n"
          ]
        }
      ]
    },
    {
      "cell_type": "code",
      "source": [
        "continua = 'sim'\n",
        "sacola = 0.00\n",
        "while continua =='sim':\n",
        "  prod_1 = float(input('Qual o valor do produto? R$ '))\n",
        "  sacola = sacola + prod_1\n",
        "\n",
        "  pergunta = input('Você deseja adicionar mais algum produto? Responda sim ou não')\n",
        "  if pergunta == 'sim':\n",
        "    print('Oba!')\n",
        "  else:\n",
        "    continua = 'não'\n",
        "    print(f'O preço a pagar por todos estes produtos é: R$ {sacola}')"
      ],
      "metadata": {
        "colab": {
          "base_uri": "https://localhost:8080/"
        },
        "id": "dm9TDeTE04Us",
        "outputId": "e05e1166-9a6d-44aa-c27a-6f130a0fe924"
      },
      "execution_count": 16,
      "outputs": [
        {
          "output_type": "stream",
          "name": "stdout",
          "text": [
            "Qual o valor do produto? R$ 1.50\n",
            "Você deseja adicionar mais algum produto? Responda sim ou nãosim\n",
            "Oba!\n",
            "Qual o valor do produto? R$ 3\n",
            "Você deseja adicionar mais algum produto? Responda sim ou nãosim\n",
            "Oba!\n",
            "Qual o valor do produto? R$ 10\n",
            "Você deseja adicionar mais algum produto? Responda sim ou nãonão\n",
            "O preço a pagar por todos estes produtos é: R$ 14.5\n"
          ]
        }
      ]
    },
    {
      "cell_type": "code",
      "source": [
        "nome = 'JEAN'\n",
        "print(nome.lower())\n",
        "\n",
        "nome = 'JEAN'\n",
        "print(nome.capitalize())\n",
        "\n",
        "txt = 'O curso começa na segunda-feira! Não perca!'\n",
        "x  = txt.replace('segunda', 'sexta')\n",
        "print(x)"
      ],
      "metadata": {
        "colab": {
          "base_uri": "https://localhost:8080/"
        },
        "id": "o71A3KLI4Cpb",
        "outputId": "1b311cd5-c292-454a-a340-6484991c67b4"
      },
      "execution_count": 21,
      "outputs": [
        {
          "output_type": "stream",
          "name": "stdout",
          "text": [
            "jean\n",
            "Jean\n",
            "O curso começa na sexta-feira! Não perca!\n"
          ]
        }
      ]
    },
    {
      "cell_type": "code",
      "source": [
        "lista = ['Jean','Alice','Daniel','Goguinho', 'Zezo']\n",
        "print(lista[0])\n",
        "print(lista[-1])\n",
        "print(lista[0:3])\n",
        "print(lista[1: ])\n",
        "print(lista[ :1])\n",
        "\n",
        "len(lista)\n",
        "for x in range(0,len(lista)):\n",
        "  print(lista[x])\n",
        "\n",
        "lista.append('Maria')\n",
        "print(lista)\n",
        "\n",
        "lista.insert(0,'José')\n",
        "print(lista)\n",
        "\n",
        "lista.sort()\n",
        "print(lista)\n",
        "\n",
        "lista.sort(reverse=True)\n",
        "print(lista)\n",
        "\n",
        "lista.pop(0)\n",
        "print(lista)\n",
        "\n",
        "del lista[0]\n",
        "print(lista)\n",
        "\n",
        "lista_copia = lista.copy()\n",
        "lista.append('Jojojojo')\n",
        "print(lista_copia)"
      ],
      "metadata": {
        "colab": {
          "base_uri": "https://localhost:8080/"
        },
        "id": "X_qaiqsL5ZuM",
        "outputId": "8e7d2593-7b3c-425e-bfd7-75082d36ecdc"
      },
      "execution_count": 38,
      "outputs": [
        {
          "output_type": "stream",
          "name": "stdout",
          "text": [
            "Jean\n",
            "Zezo\n",
            "['Jean', 'Alice', 'Daniel']\n",
            "['Alice', 'Daniel', 'Goguinho', 'Zezo']\n",
            "['Jean']\n",
            "Jean\n",
            "Alice\n",
            "Daniel\n",
            "Goguinho\n",
            "Zezo\n",
            "['Jean', 'Alice', 'Daniel', 'Goguinho', 'Zezo', 'Maria']\n",
            "['José', 'Jean', 'Alice', 'Daniel', 'Goguinho', 'Zezo', 'Maria']\n",
            "['Alice', 'Daniel', 'Goguinho', 'Jean', 'José', 'Maria', 'Zezo']\n",
            "['Zezo', 'Maria', 'José', 'Jean', 'Goguinho', 'Daniel', 'Alice']\n",
            "['Maria', 'José', 'Jean', 'Goguinho', 'Daniel', 'Alice']\n",
            "['José', 'Jean', 'Goguinho', 'Daniel', 'Alice']\n",
            "['José', 'Jean', 'Goguinho', 'Daniel', 'Alice']\n"
          ]
        }
      ]
    },
    {
      "cell_type": "markdown",
      "source": [
        "Lista de convidados - Menor de 18 não entra"
      ],
      "metadata": {
        "id": "qZhBo1HqAvAI"
      }
    }
  ]
}